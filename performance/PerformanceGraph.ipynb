{
 "cells": [
  {
   "cell_type": "code",
   "execution_count": 1,
   "id": "d4e7b354",
   "metadata": {},
   "outputs": [
    {
     "name": "stdout",
     "output_type": "stream",
     "text": [
      "Requirement already satisfied: matplotlib in /Users/sakshi/miniconda3/lib/python3.9/site-packages (3.6.3)\n",
      "Requirement already satisfied: watchdog in /Users/sakshi/miniconda3/lib/python3.9/site-packages (3.0.0)\n",
      "Requirement already satisfied: numpy>=1.19 in /Users/sakshi/miniconda3/lib/python3.9/site-packages (from matplotlib) (1.24.1)\n",
      "Requirement already satisfied: packaging>=20.0 in /Users/sakshi/miniconda3/lib/python3.9/site-packages (from matplotlib) (23.0)\n",
      "Requirement already satisfied: kiwisolver>=1.0.1 in /Users/sakshi/miniconda3/lib/python3.9/site-packages (from matplotlib) (1.4.4)\n",
      "Requirement already satisfied: cycler>=0.10 in /Users/sakshi/miniconda3/lib/python3.9/site-packages (from matplotlib) (0.11.0)\n",
      "Requirement already satisfied: contourpy>=1.0.1 in /Users/sakshi/miniconda3/lib/python3.9/site-packages (from matplotlib) (1.0.7)\n",
      "Requirement already satisfied: pillow>=6.2.0 in /Users/sakshi/miniconda3/lib/python3.9/site-packages (from matplotlib) (9.4.0)\n",
      "Requirement already satisfied: python-dateutil>=2.7 in /Users/sakshi/miniconda3/lib/python3.9/site-packages (from matplotlib) (2.8.2)\n",
      "Requirement already satisfied: fonttools>=4.22.0 in /Users/sakshi/miniconda3/lib/python3.9/site-packages (from matplotlib) (4.38.0)\n",
      "Requirement already satisfied: pyparsing>=2.2.1 in /Users/sakshi/miniconda3/lib/python3.9/site-packages (from matplotlib) (3.0.9)\n",
      "Requirement already satisfied: six>=1.5 in /Users/sakshi/miniconda3/lib/python3.9/site-packages (from python-dateutil>=2.7->matplotlib) (1.12.0)\n"
     ]
    }
   ],
   "source": [
    "!pip install matplotlib watchdog"
   ]
  },
  {
   "cell_type": "code",
   "execution_count": null,
   "id": "191a84a9",
   "metadata": {},
   "outputs": [],
   "source": [
    "import matplotlib.pyplot as plt\n",
    "from matplotlib.animation import FuncAnimation\n",
    "import pandas as pd\n",
    "import time\n",
    "from watchdog.observers import Observer\n",
    "from watchdog.events import FileSystemEventHandler\n"
   ]
  },
  {
   "cell_type": "code",
   "execution_count": null,
   "id": "aaab47a1",
   "metadata": {},
   "outputs": [],
   "source": [
    "def read_metrics(filename):\n",
    "    metrics_dict = {}\n",
    "    with open(filename, 'r') as file:\n",
    "        for line in file:\n",
    "            parts = line.strip().split(',')\n",
    "            for part in parts:\n",
    "                key, value = part.split(':')\n",
    "                metrics_dict[key] = int(value)\n",
    "    return metrics_dict\n",
    "\n",
    "\n",
    "def update_graph(ax, metric_name, metric_values):\n",
    "    ax.clear()\n",
    "    ax.plot(metric_values, marker='o')\n",
    "    ax.set_title(metric_name)\n",
    "    ax.set_xlabel('Time')\n",
    "    ax.set_ylabel('Value')\n",
    "    ax.grid()\n",
    "\n"
   ]
  },
  {
   "cell_type": "code",
   "execution_count": null,
   "id": "a736d5e3",
   "metadata": {},
   "outputs": [],
   "source": [
    "# Initialize the figure and subplots\n",
    "fig, axs = plt.subplots(2, 2, figsize=(12, 8))\n",
    "ax_empty_reads, ax_non_empty_reads, ax_range_queries, ax_write_queries = axs.flatten()\n",
    "\n",
    "# Initialize empty lists to store metric values\n",
    "empty_reads_values = []\n",
    "non_empty_reads_values = []\n",
    "range_queries_values = []\n",
    "write_queries_values = []\n",
    "\n",
    "# Initialize a variable to keep track of the last read position\n",
    "last_read_position = 0\n",
    "\n",
    "def on_metrics_file_change(event):\n",
    "    global last_read_position\n",
    "\n",
    "    with open('performance_metrics.csv', 'a') as file:\n",
    "        pass \n",
    "\n",
    "    with open('performance_metrics.csv', 'r') as file:\n",
    "        file.seek(last_read_position)\n",
    "        \n",
    "        for line in file:\n",
    "            parts = line.strip().split(',')\n",
    "            for part in parts:\n",
    "                key, value = part.split(':')\n",
    "                if key == 'Empty Reads Duration':\n",
    "                    empty_reads_values.append(int(value))\n",
    "                elif key == 'Read Duration':\n",
    "                    non_empty_reads_values.append(int(value))\n",
    "                elif key == 'Range Reads Duration':\n",
    "                    range_queries_values.append(int(value))\n",
    "                elif key == 'Write Duration':\n",
    "                    write_queries_values.append(int(value))\n",
    "\n",
    "        last_read_position = file.tell()\n",
    "\n",
    "    # Update the graphs\n",
    "    update_graph(ax_empty_reads, 'Empty Reads', empty_reads_values)\n",
    "    update_graph(ax_non_empty_reads, 'Non-Empty Reads', non_empty_reads_values)\n",
    "    update_graph(ax_range_queries, 'Range Queries', range_queries_values)\n",
    "    update_graph(ax_write_queries, 'Write Queries', write_queries_values)\n",
    "\n",
    "\n",
    "# Watch the metrics file for changes\n",
    "event_handler = FileSystemEventHandler()\n",
    "event_handler.on_modified = on_metrics_file_change\n",
    "observer = Observer()\n",
    "observer.schedule(event_handler, '.', recursive=False)\n",
    "observer.start()\n",
    "\n",
    "try:\n",
    "    ani = FuncAnimation(fig, lambda x: None, interval=1000)\n",
    "    plt.show()\n",
    "except KeyboardInterrupt:\n",
    "    observer.stop()\n",
    "observer.join()\n"
   ]
  }
 ],
 "metadata": {
  "kernelspec": {
   "display_name": "Python 3 (ipykernel)",
   "language": "python",
   "name": "python3"
  },
  "language_info": {
   "codemirror_mode": {
    "name": "ipython",
    "version": 3
   },
   "file_extension": ".py",
   "mimetype": "text/x-python",
   "name": "python",
   "nbconvert_exporter": "python",
   "pygments_lexer": "ipython3",
   "version": "3.9.12"
  }
 },
 "nbformat": 4,
 "nbformat_minor": 5
}
