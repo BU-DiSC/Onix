{
 "cells": [
  {
   "cell_type": "code",
   "execution_count": 32,
   "id": "7962d838",
   "metadata": {},
   "outputs": [],
   "source": [
    "import matplotlib.pyplot as plt\n",
    "import numpy as np\n",
    "import pandas as pd\n",
    "import mlos_core.optimizers\n",
    "import ConfigSpace as CS\n",
    "from ConfigSpace import UniformIntegerHyperparameter\n",
    "from ConfigSpace import UniformFloatHyperparameter\n",
    "from ConfigSpace import CategoricalHyperparameter"
   ]
  },
  {
   "cell_type": "code",
   "execution_count": 33,
   "id": "3ff96513",
   "metadata": {},
   "outputs": [],
   "source": [
    "def cost_model(index):\n",
    "    performance_data = pd.read_csv('../../build/performance/performance_metrics.csv', header=None, names=[\"empty_reads\", \"non_empty_reads\", \"range_reads\", \"writes\"])\n",
    "    return performance_data.iloc[index:].mean().sum()"
   ]
  },
  {
   "cell_type": "code",
   "execution_count": 34,
   "id": "97e3a38a",
   "metadata": {},
   "outputs": [],
   "source": [
    "default_values = {\n",
    "    \"max_background_jobs\": 2,\n",
    "    \"max_subcompactions\": 1,\n",
    "    \"max_write_buffer_number\":2,\n",
    "    \"level0_slowdown_writes_trigger\": 20,\n",
    "    \"level0_stop_writes_trigger\": 36,\n",
    "    \"target_file_size_base\": 64 * 1048576,\n",
    "    \"target_file_size_multiplier\": 1,\n",
    "    \"max_bytes_for_level_multiplier\": 10,\n",
    "    \"write_buffer_size\": 64 << 20,\n",
    "    \"level0_file_num_compaction_trigger\": 4,\n",
    "    \"max_bytes_for_level_base\": 256 * 1048576\n",
    "}\n"
   ]
  },
  {
   "cell_type": "code",
   "execution_count": 35,
   "id": "95beeb51",
   "metadata": {},
   "outputs": [],
   "source": [
    "input_space = CS.ConfigurationSpace(seed=1234)\n",
    "\n",
    "max_open_files=CS.Integer(\"max_open_files\",(-1,1000),default=-1)\n",
    "max_total_wal_size=CS.Integer(\"max_total_wal_size\",(0,1000))\n",
    "delete_obsolete_files_period_micros=CS.Integer(\"delete_obsolete_files_period_micros\",(1,1000 * 60 * 60 * 1000000),default=6 * 60 * 60 * 1000000)\n",
    "\n",
    "max_background_jobs=CS.Integer(\"max_background_jobs\", (1,20), default=default_values[\"max_background_jobs\"])\n",
    "max_subcompactions=CS.Integer(\"max_subcompactions\", (1,20), default=default_values[\"max_subcompactions\"])\n",
    "compaction_readahead_size=CS.Integer(\"compaction_readahead_size\",(0,1000 * 1024 * 1024),default=2 * 1024 * 1024)\n",
    "\n",
    "writable_file_max_buffer_size=CS.Integer(\"writable_file_max_buffer_size\",(0,1000*1024*1024),default=1024 * 1024)\n",
    "delayed_write_rate=CS.Integer(\"delayed_write_rate\",(0,1000*1024*1024),default=0)\n",
    "avoid_flush_during_shutdown=CS.Categorical(\"avoid_flush_during_shutdown\", [\"true\",\"false\"], default=\"true\") \n",
    "\n",
    "max_write_buffer_number=CS.Integer(\"max_write_buffer_number\", (1,20), default=default_values[\"max_write_buffer_number\"])\n",
    "inplace_update_num_locks=CS.Integer(\"inplace_update_num_locks\",(0,100000),default=10000)\n",
    "memtable_prefix_bloom_size_ratio=CS.Float(\"memtable_prefix_bloom_size_ratio\",(0.0,1.0),default=0)\n",
    "\n",
    "memtable_whole_key_filtering=CS.Categorical(\"memtable_whole_key_filtering\",[\"true\",\"false\"], default=\"false\") \n",
    "memtable_huge_page_size=CS.Integer(\"memtable_huge_page_size\",(0,1000 * 1024 * 1024),default=0)\n",
    "arena_block_size=CS.Integer(\"arena_block_size\",(0, 2<<30),default=0)\n",
    "\n",
    "# compression_per_level=CS.(\"compression_per_level\")\n",
    "level0_slowdown_writes_trigger=CS.Integer(\"level0_slowdown_writes_trigger\", (1,25), default=default_values[\"level0_slowdown_writes_trigger\"]) \n",
    "level0_stop_writes_trigger=CS.Integer(\"level0_stop_writes_trigger\", (1,50), default=default_values[\"level0_stop_writes_trigger\"]) \n",
    "\n",
    "target_file_size_base=CS.Integer(\"target_file_size_base\", (1,500 * 1048576), default=default_values[\"target_file_size_base\"])\n",
    "target_file_size_multiplier=CS.Integer(\"target_file_size_multiplier\", (1,20), default=default_values[\"target_file_size_multiplier\"])\n",
    "max_bytes_for_level_multiplier=CS.Float(\"max_bytes_for_level_multiplier\", (2,20.0), default=default_values[\"max_bytes_for_level_multiplier\"])\n",
    "\n",
    "write_buffer_size=CS.Float(\"write_buffer_size\",(20<<20,80<<20),default=default_values[\"write_buffer_size\"])\n",
    "level0_file_num_compaction_trigger=CS.Integer(\"level0_file_num_compaction_trigger\",(-1,10),default=default_values[\"level0_file_num_compaction_trigger\"])\n",
    "max_bytes_for_level_base=CS.Integer(\"max_bytes_for_level_base\",(128 * 1048576,256 * 1048576),default=default_values[\"max_bytes_for_level_base\"])\n",
    "\n",
    "# max_bytes_for_level_multiplier_additional=CS.(\"max_bytes_for_level_multiplier_additional\")\n",
    "# max_compaction_bytes=CS.Integer(\"max_compaction_bytes\")\n",
    "# soft_pending_compaction_bytes_limit=CS.Integer(\"soft_pending_compaction_bytes_limit\")\n",
    "\n",
    "# hard_pending_compaction_bytes_limit=CS.Integer(\"hard_pending_compaction_bytes_limit\")\n",
    "# compaction_options_universal=CS.(\"compaction_options_universal\")\n",
    "# compaction_options_fifo=CS.(\"compaction_options_fifo\")\n",
    "\n",
    "max_sequential_skip_in_iterations=CS.Integer(\"max_sequential_skip_in_iterations\",(0,999999),default=8)\n",
    "max_successive_merges=CS.Integer(\"max_successive_merges\",(0,1000),default=0)\n",
    "check_flush_compaction_key_order=CS.Categorical(\"check_flush_compaction_key_order\",[\"true\",\"false\"], default=\"true\") \n",
    "\n",
    "paranoid_file_checks=CS.Categorical(\"paranoid_file_checks\",[\"true\",\"false\"], default=\"false\") \n",
    "report_bg_io_stats=CS.Categorical(\"report_bg_io_stats\",[\"true\",\"false\"], default=\"false\") \n",
    "# ttl=CS.Integer(\"ttl\")\n",
    "\n",
    "# periodic_compaction_seconds=CS.Integer(\"periodic_compaction_seconds\")\n",
    "# bottommost_temperature=CS.(\"bottommost_temperature\")\n",
    "enable_blob_files=CS.Categorical(\"enable_blob_files\",[\"true\",\"false\"], default=\"false\") \n",
    "\n",
    "min_blob_size=CS.Integer(\"min_blob_size\",(0,1024),default=0)\n",
    "# blob_file_size=CS.Integer(\"blob_file_size\")\n",
    "# blob_compression_type=CS.(\"blob_compression_type\")\n",
    "\n",
    "enable_blob_garbage_collection=CS.Categorical(\"enable_blob_garbage_collection\",[\"true\",\"false\"], default=\"false\") \n",
    "blob_garbage_collection_age_cutoff=CS.Float(\"blob_garbage_collection_age_cutoff\",(0.0,1.0),default=0.25)\n",
    "blob_garbage_collection_force_threshold=CS.Float(\"blob_garbage_collection_force_threshold\",(0.0,1.0),default=1.00)\n",
    "\n",
    "blob_compaction_readahead_size=CS.Integer(\"blob_compaction_readahead_size\",(0,999999),default=0)\n",
    "blob_file_starting_level=CS.Integer(\"blob_file_starting_level\",(0,20),default=0)"
   ]
  },
  {
   "cell_type": "code",
   "execution_count": 36,
   "id": "415c1537",
   "metadata": {},
   "outputs": [
    {
     "data": {
      "text/plain": [
       "[max_background_jobs, Type: UniformInteger, Range: [1, 20], Default: 2,\n",
       " max_subcompactions, Type: UniformInteger, Range: [1, 20], Default: 1,\n",
       " max_write_buffer_number, Type: UniformInteger, Range: [1, 20], Default: 2,\n",
       " level0_slowdown_writes_trigger, Type: UniformInteger, Range: [1, 25], Default: 20,\n",
       " level0_stop_writes_trigger, Type: UniformInteger, Range: [1, 50], Default: 36,\n",
       " target_file_size_base, Type: UniformInteger, Range: [1, 524288000], Default: 67108864,\n",
       " target_file_size_multiplier, Type: UniformInteger, Range: [1, 20], Default: 1,\n",
       " max_bytes_for_level_multiplier, Type: UniformFloat, Range: [2.0, 20.0], Default: 10.0,\n",
       " write_buffer_size, Type: UniformFloat, Range: [20971520.0, 83886080.0], Default: 67108864.0,\n",
       " level0_file_num_compaction_trigger, Type: UniformInteger, Range: [-1, 10], Default: 4,\n",
       " max_bytes_for_level_base, Type: UniformInteger, Range: [134217728, 268435456], Default: 268435456]"
      ]
     },
     "execution_count": 36,
     "metadata": {},
     "output_type": "execute_result"
    }
   ],
   "source": [
    "input_space.add_hyperparameters([max_background_jobs,\n",
    "                                  max_subcompactions,\n",
    "                                 max_write_buffer_number,\n",
    "                                  level0_slowdown_writes_trigger,\n",
    "                                level0_stop_writes_trigger,\n",
    "                                 target_file_size_base,\n",
    "                                target_file_size_multiplier,\n",
    "                                max_bytes_for_level_multiplier,\n",
    "                                 write_buffer_size,\n",
    "                                 level0_file_num_compaction_trigger,\n",
    "                                 max_bytes_for_level_base])\n",
    "                                 \n",
    "#                                 max_open_files,\n",
    "#                                  max_total_wal_size,\n",
    "##                                  delete_obsolete_files_period_micros,\n",
    "                               \n",
    "#                                 compaction_readahead_size,\n",
    "#                                 writable_file_max_buffer_size,\n",
    "#                                 delayed_write_rate,\n",
    "#                                 avoid_flush_during_shutdown,\n",
    "                                \n",
    "#                                 inplace_update_num_locks,\n",
    "#                                 memtable_prefix_bloom_size_ratio,\n",
    "#                                 memtable_whole_key_filtering,\n",
    "#                                 memtable_huge_page_size,\n",
    "#                                 arena_block_size,\n",
    "                               \n",
    "                                \n",
    "#                                 max_sequential_skip_in_iterations,\n",
    "#                                 max_successive_merges,\n",
    "#                                 check_flush_compaction_key_order,\n",
    "#                                 paranoid_file_checks,\n",
    "#                                 report_bg_io_stats,\n",
    "#                                 enable_blob_files,\n",
    "#                                 min_blob_size,\n",
    "#                                 enable_blob_garbage_collection,\n",
    "#                                 blob_garbage_collection_age_cutoff,\n",
    "#                                 blob_garbage_collection_force_threshold,\n",
    "#                                 blob_compaction_readahead_size,\n",
    "#                                 blob_file_starting_level])"
   ]
  },
  {
   "cell_type": "code",
   "execution_count": 37,
   "id": "363577ae",
   "metadata": {},
   "outputs": [],
   "source": [
    "#optimizer = mlos_core.optimizers.RandomOptimizer(parameter_space=input_space)\n",
    "\n",
    "#optimizer = mlos_core.optimizers.FlamlOptimizer(parameter_space=input_space)\n",
    "\n",
    "optimizer = mlos_core.optimizers.SmacOptimizer(parameter_space=input_space) # , seed=42, n_random_init=20)"
   ]
  },
  {
   "cell_type": "code",
   "execution_count": 38,
   "id": "c2bfd9c8",
   "metadata": {},
   "outputs": [
    {
     "data": {
      "text/plain": [
       "SmacOptimizer(space_adapter=None)"
      ]
     },
     "execution_count": 38,
     "metadata": {},
     "output_type": "execute_result"
    }
   ],
   "source": [
    "optimizer"
   ]
  },
  {
   "cell_type": "code",
   "execution_count": 39,
   "id": "2940d68a",
   "metadata": {},
   "outputs": [],
   "source": [
    "import os\n",
    "import time\n",
    "import sys\n",
    "def pass_values_to_interface(new_val):\n",
    "    pipe_path = '../../build/passing_params_pipe'\n",
    "    if not os.path.exists(pipe_path):\n",
    "        os.mkfifo(pipe_path)\n",
    "    pipe_fd = os.open(pipe_path, os.O_RDWR | os.O_TRUNC)\n",
    "    data =''\n",
    "    try:\n",
    "        for x in new_val:\n",
    "            data+='\\n' + x + '=' + str(new_val[x].iloc[0])\n",
    "        data=data.encode('utf-8')\n",
    "        os.write(pipe_fd, data)\n",
    "        sys.stdout.flush()\n",
    "    except KeyboardInterrupt:\n",
    "        pass\n",
    "#     finally:\n",
    "#         os.close(pipe_fd)\n"
   ]
  },
  {
   "cell_type": "code",
   "execution_count": 40,
   "id": "1d37e6f7",
   "metadata": {},
   "outputs": [],
   "source": [
    "def read_epochs_pipe():\n",
    "    while True:\n",
    "        epochs_pipe_path = '../../build/passing_epochs'\n",
    "        if os.path.exists(epochs_pipe_path):\n",
    "            epochs_pipe_fd = os.open(epochs_pipe_path, os.O_RDONLY | os.O_TRUNC)\n",
    "            try:\n",
    "                buffer_size = 10000\n",
    "                buffer = os.read(epochs_pipe_fd, buffer_size).decode('utf-8')\n",
    "                if buffer:\n",
    "                    reported_epochs = int(buffer)\n",
    "                    print(f\"Reported epochs: {reported_epochs}\")\n",
    "                    return reported_epochs\n",
    "            except OSError as e:\n",
    "                if e.errno == os.errno.EAGAIN or e.errno == os.errno.EWOULDBLOCK:\n",
    "                    pass\n",
    "                else:\n",
    "                    raise\n",
    "            finally:\n",
    "                os.close(epochs_pipe_fd)\n",
    "        else:\n",
    "            pass\n",
    "    \n"
   ]
  },
  {
   "cell_type": "code",
   "execution_count": 42,
   "id": "545b2a91",
   "metadata": {},
   "outputs": [
    {
     "name": "stdout",
     "output_type": "stream",
     "text": [
      "epoch: 0\n",
      "Reported epochs: -15\n",
      "epoch: 1\n",
      "Reported epochs: -19\n",
      "epoch: 2\n",
      "Reported epochs: -41\n",
      "epoch: 3\n",
      "Reported epochs: -57\n",
      "epoch: 4\n",
      "Reported epochs: -69\n",
      "epoch: 5\n"
     ]
    },
    {
     "ename": "KeyboardInterrupt",
     "evalue": "",
     "output_type": "error",
     "traceback": [
      "\u001b[0;31m---------------------------------------------------------------------------\u001b[0m",
      "\u001b[0;31mKeyboardInterrupt\u001b[0m                         Traceback (most recent call last)",
      "Cell \u001b[0;32mIn[42], line 18\u001b[0m\n\u001b[1;32m     16\u001b[0m \u001b[38;5;28;01mfor\u001b[39;00m i \u001b[38;5;129;01min\u001b[39;00m \u001b[38;5;28mrange\u001b[39m(n_iterations):\n\u001b[1;32m     17\u001b[0m     \u001b[38;5;28mprint\u001b[39m(\u001b[38;5;124m\"\u001b[39m\u001b[38;5;124mepoch:\u001b[39m\u001b[38;5;124m\"\u001b[39m,i)\n\u001b[0;32m---> 18\u001b[0m     run_optimization()\n",
      "Cell \u001b[0;32mIn[42], line 5\u001b[0m, in \u001b[0;36mrun_optimization\u001b[0;34m()\u001b[0m\n\u001b[1;32m      3\u001b[0m suggested_value \u001b[38;5;241m=\u001b[39m optimizer\u001b[38;5;241m.\u001b[39msuggest()\n\u001b[1;32m      4\u001b[0m pass_values_to_interface(suggested_value)\n\u001b[0;32m----> 5\u001b[0m index\u001b[38;5;241m=\u001b[39mread_epochs_pipe()\n\u001b[1;32m      6\u001b[0m time\u001b[38;5;241m.\u001b[39msleep(\u001b[38;5;241m5\u001b[39m)\n\u001b[1;32m      7\u001b[0m \u001b[38;5;28;01mif\u001b[39;00m index\u001b[38;5;241m<\u001b[39m\u001b[38;5;241m0\u001b[39m:\n",
      "Cell \u001b[0;32mIn[40], line 8\u001b[0m, in \u001b[0;36mread_epochs_pipe\u001b[0;34m()\u001b[0m\n\u001b[1;32m      6\u001b[0m \u001b[38;5;28;01mtry\u001b[39;00m:\n\u001b[1;32m      7\u001b[0m     buffer_size \u001b[38;5;241m=\u001b[39m \u001b[38;5;241m10000\u001b[39m\n\u001b[0;32m----> 8\u001b[0m     buffer \u001b[38;5;241m=\u001b[39m os\u001b[38;5;241m.\u001b[39mread(epochs_pipe_fd, buffer_size)\u001b[38;5;241m.\u001b[39mdecode(\u001b[38;5;124m'\u001b[39m\u001b[38;5;124mutf-8\u001b[39m\u001b[38;5;124m'\u001b[39m)\n\u001b[1;32m      9\u001b[0m     \u001b[38;5;28;01mif\u001b[39;00m buffer:\n\u001b[1;32m     10\u001b[0m         reported_epochs \u001b[38;5;241m=\u001b[39m \u001b[38;5;28mint\u001b[39m(buffer)\n",
      "\u001b[0;31mKeyboardInterrupt\u001b[0m: "
     ]
    }
   ],
   "source": [
    "restart_indexes=[]\n",
    "def run_optimization():\n",
    "    suggested_value = optimizer.suggest()\n",
    "    pass_values_to_interface(suggested_value)\n",
    "    index=read_epochs_pipe()\n",
    "    time.sleep(5)\n",
    "    if index<0:\n",
    "        restart_indexes.append(-index)\n",
    "        target_value=float('inf')\n",
    "    else:\n",
    "        target_value = cost_model(index)\n",
    "    optimizer.register(suggested_value, pd.Series([target_value]))\n",
    "\n",
    "\n",
    "n_iterations = 50\n",
    "for i in range(n_iterations):\n",
    "    print(\"epoch:\",i)\n",
    "    run_optimization()"
   ]
  },
  {
   "cell_type": "code",
   "execution_count": null,
   "id": "301e8399",
   "metadata": {},
   "outputs": [],
   "source": [
    "observations_df = optimizer.get_observations()"
   ]
  },
  {
   "cell_type": "code",
   "execution_count": null,
   "id": "ba39354c",
   "metadata": {},
   "outputs": [],
   "source": [
    "observations_df"
   ]
  },
  {
   "cell_type": "code",
   "execution_count": null,
   "id": "c187760f",
   "metadata": {},
   "outputs": [],
   "source": [
    "delta_df = observations_df.copy()\n",
    "for column in delta_df.columns:\n",
    "    default_value = default_values[column]\n",
    "    delta_df[column] = delta_df[column] - default_value"
   ]
  },
  {
   "cell_type": "code",
   "execution_count": null,
   "id": "69edc4e0",
   "metadata": {},
   "outputs": [],
   "source": [
    "delta_df"
   ]
  },
  {
   "cell_type": "code",
   "execution_count": null,
   "id": "b92eaba6",
   "metadata": {},
   "outputs": [],
   "source": [
    "optimizer.get_best_observation()"
   ]
  },
  {
   "cell_type": "code",
   "execution_count": null,
   "id": "59fa238c",
   "metadata": {},
   "outputs": [],
   "source": [
    "optimum_value=optimizer.suggest()\n",
    "pass_values_to_interface(optimum_value)"
   ]
  },
  {
   "cell_type": "code",
   "execution_count": null,
   "id": "2a8b12d6",
   "metadata": {},
   "outputs": [],
   "source": [
    "print(optimum_value)"
   ]
  },
  {
   "cell_type": "code",
   "execution_count": null,
   "id": "d15694ca",
   "metadata": {},
   "outputs": [],
   "source": [
    "import pandas as pd\n",
    "import plotly.express as px\n",
    "\n",
    "data_url = '../../build/performance/performance_metrics.csv'\n",
    "df = pd.read_csv(data_url, header=None, names=[\"Empty Reads\", \"Non-Empty Reads\", \"Range Reads\", \"Writes\"]).iloc[-100:]\n",
    "\n",
    "# Plot Empty Reads\\n\",\n",
    "fig_empty_reads = px.line(df, x=df.index, y=\"Empty Reads\", title=\"Empty Reads\")\n",
    "fig_non_empty_reads = px.line(df, x=df.index, y=\"Non-Empty Reads\", title=\"Non-Empty Reads\")\n",
    "fig_range_reads = px.line(df, x=df.index, y=\"Range Reads\", title=\"Range Reads\")\n",
    "fig_writes = px.line(df, x=df.index, y=\"Writes\", title=\"Writes\")\n",
    "                     \n",
    "for restart_index in restart_indexes:\n",
    "    fig_empty_reads.add_trace(go.Scatter(x=[restart_index], y=[df[\"Empty Reads\"].iloc[restart_index]],\n",
    "                                         mode='markers', marker=dict(color='red'), name='Restart'))\n",
    "    fig_non_empty_reads.add_trace(go.Scatter(x=[restart_index], y=[df[\"Non-Empty Reads\"].iloc[restart_index]],\n",
    "                                            mode='markers', marker=dict(color='red'), name='Restart'))\n",
    "    fig_range_reads.add_trace(go.Scatter(x=[restart_index], y=[df[\"Range Reads\"].iloc[restart_index]],\n",
    "                                         mode='markers', marker=dict(color='red'), name='Restart'))\n",
    "    fig_writes.add_trace(go.Scatter(x=[restart_index], y=[df[\"Writes\"].iloc[restart_index]],\n",
    "                                    mode='markers', marker=dict(color='red'), name='Restart'))\n",
    "\n",
    "\n",
    "fig_empty_reads.update_xaxes(title_text='Iterations')\n",
    "fig_empty_reads.update_yaxes(title_text='Time (ms)')\n",
    "fig_non_empty_reads.update_xaxes(title_text='Iterations')\n",
    "fig_non_empty_reads.update_yaxes(title_text='Time (ms)')\n",
    "fig_range_reads.update_xaxes(title_text='Iterations')\n",
    "fig_range_reads.update_yaxes(title_text='Time (ms)')\n",
    "fig_writes.update_xaxes(title_text='Iterations')\n",
    "fig_writes.update_yaxes(title_text='Time (ms)')\n",
    "\n",
    "                     \n",
    "fig_empty_reads.show()\n",
    "fig_non_empty_reads.show()\n",
    "fig_range_reads.show()\n",
    "fig_writes.show()\n",
    "\n",
    "fig_empty_reads.write_image(\"../../build/performance/empty_reads_graph.png\")\n",
    "fig_non_empty_reads.write_image(\"../../build/performance/non_empty_reads_graph.png\")\n",
    "fig_range_reads.write_image(\"../../build/performance/range_reads_graph.png\")\n",
    "fig_writes.write_image(\"../../build/performance/writes_graph.png\")"
   ]
  },
  {
   "cell_type": "code",
   "execution_count": null,
   "id": "f5474249",
   "metadata": {},
   "outputs": [],
   "source": [
    "hyper_parameters_integer = {\n",
    "    \"max_open_files\":[-1,10000, -1],\n",
    "    \"max_total_wal_size\":[0, 100000, 0],\n",
    "    \"delete_obsolete_files_period_micros\":[0, 6 * 60 * 60 * 1000000, 6 * 60 * 60 * 1000000],\n",
    "    \"max_background_jobs\":[2, 10, 2],\n",
    "    \"max_subcompactions\":[1, 100, 1],\n",
    "    \"compaction_readahead_size\":[0, 1000000, 0],\n",
    "    \"writable_file_max_buffer_size\":[0, 1024 * 1024, 1024 * 1024],\n",
    "    \"delayed_write_rate\":[0, 1000000, 0],\n",
    "    \n",
    "    \"max_write_buffer_number\":[1, 10, 2],\n",
    "    \"inplace_update_num_locks\":[0, 10000, 0],\n",
    "    \"memtable_huge_page_size\":[0, 1000000, 0],\n",
    "    \"arena_block_size\":[0, 1000000, 0],\n",
    "    \"level0_slowdown_writes_trigger\":[0, 100, 20],\n",
    "    \"level0_stop_writes_trigger\":[0, 100, 36],\n",
    "    \"target_file_size_base\":[0, 100000000, 64 * 1048576],\n",
    "    \"target_file_size_multiplier\":[0, 100, 1],\n",
    "    \"max_compaction_bytes\":[0, 1000000000, 64 * 1048576 * 25],\n",
    "    \"soft_pending_compaction_bytes_limit\":[0, 1000000000, 64 * 1073741824],\n",
    "    \"hard_pending_compaction_bytes_limit\":[0, 1000000000, 256 * 1073741824]                          \n",
    "}\n",
    "                                           \n",
    "hyper_parameters_float ={\n",
    "    \"memtable_prefix_bloom_size_ratio\":[0.0, 1.0, 0.0],\n",
    "    \"max_bytes_for_level_multiplier\":[0.0, 100.0, 10.0]\n",
    "}\n",
    "                                           \n",
    "hyper_parameters_catagorical ={\n",
    "    \"avoid_flush_during_shutdown\":[[True, False],False],  \n",
    "    \"memtable_whole_key_filtering\":[[True, False],False],\n",
    "   \"compression_per_level\":[[\"kNoCompression\", \"kSnappyCompression\", \"kZlibCompression\", \"kBZip2Compression\", \"kLZ4Compression\", \"kLZ4HCCompression\", \"kXpressCompression\", \"kZSTD\"], \"kNoCompression\"]\n",
    "\n",
    "}"
   ]
  },
  {
   "cell_type": "code",
   "execution_count": null,
   "id": "35ae67d0",
   "metadata": {},
   "outputs": [],
   "source": []
  }
 ],
 "metadata": {
  "kernelspec": {
   "display_name": "Python 3 (ipykernel)",
   "language": "python",
   "name": "python3"
  },
  "language_info": {
   "codemirror_mode": {
    "name": "ipython",
    "version": 3
   },
   "file_extension": ".py",
   "mimetype": "text/x-python",
   "name": "python",
   "nbconvert_exporter": "python",
   "pygments_lexer": "ipython3",
   "version": "3.11.5"
  }
 },
 "nbformat": 4,
 "nbformat_minor": 5
}
