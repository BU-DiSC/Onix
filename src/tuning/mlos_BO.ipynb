{
 "cells": [
  {
   "cell_type": "code",
   "execution_count": 1,
   "id": "7962d838",
   "metadata": {},
   "outputs": [],
   "source": [
    "import matplotlib.pyplot as plt\n",
    "import numpy as np\n",
    "import pandas as pd\n",
    "import mlos_core.optimizers\n",
    "import ConfigSpace as CS\n",
    "from ConfigSpace import UniformIntegerHyperparameter\n",
    "from ConfigSpace import UniformFloatHyperparameter\n",
    "from ConfigSpace import CategoricalHyperparameter"
   ]
  },
  {
   "cell_type": "code",
   "execution_count": 2,
   "id": "3ff96513",
   "metadata": {},
   "outputs": [],
   "source": [
    "def cost_model(index):\n",
    "    performance_data = pd.read_csv('../../build/performance/performance_metrics.csv', header=None, names=[\"empty_reads\", \"non_empty_reads\", \"range_reads\", \"writes\"])\n",
    "    #print(index,[performance_data.iloc[index:index+10].mean().sum()])\n",
    "    return [performance_data.iloc[index:].mean().sum()]"
   ]
  },
  {
   "cell_type": "code",
   "execution_count": 3,
   "id": "95beeb51",
   "metadata": {},
   "outputs": [
    {
     "data": {
      "text/plain": [
       "target_file_size_base, Type: UniformInteger, Range: [2, 100000000], Default: 2"
      ]
     },
     "execution_count": 3,
     "metadata": {},
     "output_type": "execute_result"
    }
   ],
   "source": [
    "# Start defining a ConfigurationSpace for the Optimizer to search.\n",
    "input_space = CS.ConfigurationSpace(seed=1234)\n",
    "\n",
    "# Add a single continuous input dimension between 0 and 1.\n",
    "input_space.add_hyperparameter(CS.Integer(\"target_file_size_base\", (2,100000000), default=2))\n"
   ]
  },
  {
   "cell_type": "code",
   "execution_count": 4,
   "id": "415c1537",
   "metadata": {},
   "outputs": [],
   "source": [
    "#input_space.add_hyperparameter(CS.Float(\"max_bytes_for_level_multiplier\", (1,10000), default=10))"
   ]
  },
  {
   "cell_type": "code",
   "execution_count": 5,
   "id": "363577ae",
   "metadata": {},
   "outputs": [],
   "source": [
    "# Choose an optimizer.\n",
    "\n",
    "#optimizer = mlos_core.optimizers.RandomOptimizer(parameter_space=input_space)\n",
    "\n",
    "#optimizer = mlos_core.optimizers.FlamlOptimizer(parameter_space=input_space)\n",
    "\n",
    "optimizer = mlos_core.optimizers.SmacOptimizer(parameter_space=input_space) # , seed=42, n_random_init=20)"
   ]
  },
  {
   "cell_type": "code",
   "execution_count": 6,
   "id": "c2bfd9c8",
   "metadata": {},
   "outputs": [
    {
     "data": {
      "text/plain": [
       "SmacOptimizer(space_adapter=None)"
      ]
     },
     "execution_count": 6,
     "metadata": {},
     "output_type": "execute_result"
    }
   ],
   "source": [
    "optimizer"
   ]
  },
  {
   "cell_type": "code",
   "execution_count": 7,
   "id": "2940d68a",
   "metadata": {},
   "outputs": [],
   "source": [
    "import os\n",
    "import time\n",
    "import sys\n",
    "def pass_values_to_interface(new_val):\n",
    "    #print(new_val)\n",
    "    pipe_path = '../../build/passing_params_pipe'\n",
    "    if not os.path.exists(pipe_path):\n",
    "        os.mkfifo(pipe_path)\n",
    "    pipe_fd = os.open(pipe_path, os.O_RDWR)\n",
    "    data =''\n",
    "    try:\n",
    "        for x in new_val:\n",
    "            data+='\\n' + x + '=' + str(new_val[x].iloc[0])\n",
    "            #print(str(new_val[x].iloc[0]))\n",
    "        #data = ('max_write_buffer_number' + '=' + str(int(new_val['target_file_size_base'])* 1048576) + '\\n' + 'target_file_size_multiplier' + '=' + str(new_val['target_file_size_multiplier']) + '\\n').encode('utf-8')\n",
    "        #data = ('target_file_size_multiplier' + '=' + str(new_val['target_file_size_multiplier']) + '\\n').encode('utf-8')\n",
    "        #data = \"\\n max_write_buffer_number=2 \\n max_bytes_for_level_multiplier=10.0 \\n \"\n",
    "        data=data.encode('utf-8')\n",
    "        os.write(pipe_fd, data)\n",
    "        sys.stdout.flush()\n",
    "    except KeyboardInterrupt:\n",
    "        pass\n",
    "#     finally:\n",
    "#         os.close(pipe_fd)\n"
   ]
  },
  {
   "cell_type": "code",
   "execution_count": 8,
   "id": "1d37e6f7",
   "metadata": {},
   "outputs": [],
   "source": [
    "def read_epochs_pipe():\n",
    "    while True:\n",
    "        epochs_pipe_path = '../../build/passing_epochs'\n",
    "        if os.path.exists(epochs_pipe_path):\n",
    "            epochs_pipe_fd = os.open(epochs_pipe_path, os.O_RDONLY)\n",
    "            try:\n",
    "                buffer_size = 128\n",
    "                buffer = os.read(epochs_pipe_fd, buffer_size).decode('utf-8')\n",
    "                if buffer:\n",
    "                    reported_epochs = int(buffer)\n",
    "                    print(f\"Reported epochs: {reported_epochs}\")\n",
    "                    return reported_epochs\n",
    "                    # Process the reported epochs as needed\n",
    "            except OSError as e:\n",
    "                if e.errno == os.errno.EAGAIN or e.errno == os.errno.EWOULDBLOCK:\n",
    "                    # No data available to read, ignore\n",
    "                    pass\n",
    "                else:\n",
    "                    raise\n",
    "            finally:\n",
    "                os.close(epochs_pipe_fd)\n",
    "        else:\n",
    "            #print(f\"The passing_epochs pipe '{epochs_pipe_path}' does not exist.\")\n",
    "            pass\n",
    "    \n"
   ]
  },
  {
   "cell_type": "code",
   "execution_count": null,
   "id": "545b2a91",
   "metadata": {},
   "outputs": [],
   "source": [
    "def run_optimization():\n",
    "    # get a new config value suggestion to try from the optimizer.\n",
    "    suggested_value = optimizer.suggest()\n",
    "    pass_values_to_interface(suggested_value)\n",
    "    # evaluate target function\n",
    "    #time.sleep(30)\n",
    "\n",
    "    index=read_epochs_pipe()\n",
    "    time.sleep(30)\n",
    "    target_value = cost_model(index)\n",
    "    print(\"suggested_value\",suggested_value)\n",
    "    print(\"target value\",target_value)\n",
    "    optimizer.register(suggested_value, target_value)\n",
    "\n",
    "# run for some iterations\n",
    "n_iterations = 30\n",
    "for i in range(n_iterations):\n",
    "    run_optimization()"
   ]
  },
  {
   "cell_type": "code",
   "execution_count": null,
   "id": "301e8399",
   "metadata": {},
   "outputs": [],
   "source": [
    "optimizer.get_observations()"
   ]
  },
  {
   "cell_type": "code",
   "execution_count": 27,
   "id": "fafd39a0",
   "metadata": {},
   "outputs": [
    {
     "ename": "RuntimeError",
     "evalue": "Surrogate model can make predictions *only* after all initial points have been evaluated 0 <= 10",
     "output_type": "error",
     "traceback": [
      "\u001b[0;31m---------------------------------------------------------------------------\u001b[0m",
      "\u001b[0;31mRuntimeError\u001b[0m                              Traceback (most recent call last)",
      "Cell \u001b[0;32mIn[27], line 4\u001b[0m\n\u001b[1;32m      1\u001b[0m \u001b[38;5;66;03m# evaluate the surrogate function\u001b[39;00m\n\u001b[1;32m      2\u001b[0m \u001b[38;5;66;03m#\u001b[39;00m\n\u001b[1;32m      3\u001b[0m configs \u001b[38;5;241m=\u001b[39m pd\u001b[38;5;241m.\u001b[39mDataFrame(line\u001b[38;5;241m.\u001b[39mreshape(\u001b[38;5;241m-\u001b[39m\u001b[38;5;241m1\u001b[39m, \u001b[38;5;241m1\u001b[39m), columns\u001b[38;5;241m=\u001b[39m[\u001b[38;5;124m'\u001b[39m\u001b[38;5;124mx\u001b[39m\u001b[38;5;124m'\u001b[39m])\n\u001b[0;32m----> 4\u001b[0m surrogate_predictions \u001b[38;5;241m=\u001b[39m optimizer\u001b[38;5;241m.\u001b[39msurrogate_predict(configs)\n\u001b[1;32m      6\u001b[0m \u001b[38;5;66;03m# plot the observations\u001b[39;00m\n\u001b[1;32m      7\u001b[0m \u001b[38;5;66;03m#\u001b[39;00m\n\u001b[1;32m      8\u001b[0m observations \u001b[38;5;241m=\u001b[39m optimizer\u001b[38;5;241m.\u001b[39mget_observations()\n",
      "File \u001b[0;32m~/Desktop/Sakshi/Boston_University/DISC/mlos/MLOS/libraries/MLOS/mlos_core/mlos_core/optimizers/bayesian_optimizers/smac_optimizer.py:296\u001b[0m, in \u001b[0;36mSmacOptimizer.surrogate_predict\u001b[0;34m(self, configurations, context)\u001b[0m\n\u001b[1;32m    294\u001b[0m \u001b[38;5;66;03m# pylint: disable=protected-access\u001b[39;00m\n\u001b[1;32m    295\u001b[0m \u001b[38;5;28;01mif\u001b[39;00m \u001b[38;5;28mlen\u001b[39m(\u001b[38;5;28mself\u001b[39m\u001b[38;5;241m.\u001b[39m_observations) \u001b[38;5;241m<\u001b[39m\u001b[38;5;241m=\u001b[39m \u001b[38;5;28mself\u001b[39m\u001b[38;5;241m.\u001b[39mbase_optimizer\u001b[38;5;241m.\u001b[39m_initial_design\u001b[38;5;241m.\u001b[39m_n_configs:\n\u001b[0;32m--> 296\u001b[0m     \u001b[38;5;28;01mraise\u001b[39;00m \u001b[38;5;167;01mRuntimeError\u001b[39;00m(\n\u001b[1;32m    297\u001b[0m         \u001b[38;5;124m'\u001b[39m\u001b[38;5;124mSurrogate model can make predictions *only* after all initial points have been evaluated \u001b[39m\u001b[38;5;124m'\u001b[39m \u001b[38;5;241m+\u001b[39m\n\u001b[1;32m    298\u001b[0m         \u001b[38;5;124mf\u001b[39m\u001b[38;5;124m'\u001b[39m\u001b[38;5;132;01m{\u001b[39;00m\u001b[38;5;28mlen\u001b[39m(\u001b[38;5;28mself\u001b[39m\u001b[38;5;241m.\u001b[39m_observations)\u001b[38;5;132;01m}\u001b[39;00m\u001b[38;5;124m <= \u001b[39m\u001b[38;5;132;01m{\u001b[39;00m\u001b[38;5;28mself\u001b[39m\u001b[38;5;241m.\u001b[39mbase_optimizer\u001b[38;5;241m.\u001b[39m_initial_design\u001b[38;5;241m.\u001b[39m_n_configs\u001b[38;5;132;01m}\u001b[39;00m\u001b[38;5;124m'\u001b[39m)\n\u001b[1;32m    299\u001b[0m \u001b[38;5;28;01mif\u001b[39;00m \u001b[38;5;28mself\u001b[39m\u001b[38;5;241m.\u001b[39mbase_optimizer\u001b[38;5;241m.\u001b[39m_config_selector\u001b[38;5;241m.\u001b[39m_model \u001b[38;5;129;01mis\u001b[39;00m \u001b[38;5;28;01mNone\u001b[39;00m:\n\u001b[1;32m    300\u001b[0m     \u001b[38;5;28;01mraise\u001b[39;00m \u001b[38;5;167;01mRuntimeError\u001b[39;00m(\u001b[38;5;124m'\u001b[39m\u001b[38;5;124mSurrogate model is not yet trained\u001b[39m\u001b[38;5;124m'\u001b[39m)\n",
      "\u001b[0;31mRuntimeError\u001b[0m: Surrogate model can make predictions *only* after all initial points have been evaluated 0 <= 10"
     ]
    }
   ],
   "source": [
    "# evaluate the surrogate function\n",
    "#\n",
    "configs = pd.DataFrame(line.reshape(-1, 1), columns=['target_file_size_multiplier','target_file_size_base'])\n",
    "surrogate_predictions = optimizer.surrogate_predict(configs)\n",
    "\n",
    "# plot the observations\n",
    "#\n",
    "observations = optimizer.get_observations()\n",
    "plt.scatter(observations.x, observations.score, label='observed points')\n",
    "\n",
    "# plot the true function (usually unknown)\n",
    "#\n",
    "plt.plot(line, values, label='true function')\n",
    "\n",
    "# plot the surrogate\n",
    "#\n",
    "# alpha = optimizer_config.experiment_designer_config.confidence_bound_utility_function_config.alpha\n",
    "# t_values = t.ppf(1 - alpha / 2.0, surrogate_predictions['predicted_value_degrees_of_freedom'])\n",
    "# ci_radii = t_values * np.sqrt(surrogate_predictions['predicted_value_variance'])\n",
    "# value = surrogate_predictions['predicted_value']\n",
    "plt.plot(line, surrogate_predictions, label='surrogate predictions')\n",
    "#plt.fill_between(line, value - ci_radii, value + ci_radii, alpha=.1)\n",
    "#plt.plot(line, -optimizer.experiment_designer.utility_function(optimization_problem.construct_feature_dataframe(pd.DataFrame({'x': line}))), ':', label='utility_function')\n",
    "plt.ylabel(\"Objective function f (performance)\")\n",
    "plt.xlabel(\"Input variable\")\n",
    "plt.legend()\n",
    "plt.show()"
   ]
  },
  {
   "cell_type": "code",
   "execution_count": 11,
   "id": "b92eaba6",
   "metadata": {},
   "outputs": [
    {
     "data": {
      "text/html": [
       "<div>\n",
       "<style scoped>\n",
       "    .dataframe tbody tr th:only-of-type {\n",
       "        vertical-align: middle;\n",
       "    }\n",
       "\n",
       "    .dataframe tbody tr th {\n",
       "        vertical-align: top;\n",
       "    }\n",
       "\n",
       "    .dataframe thead th {\n",
       "        text-align: right;\n",
       "    }\n",
       "</style>\n",
       "<table border=\"1\" class=\"dataframe\">\n",
       "  <thead>\n",
       "    <tr style=\"text-align: right;\">\n",
       "      <th></th>\n",
       "      <th>x</th>\n",
       "      <th>score</th>\n",
       "    </tr>\n",
       "  </thead>\n",
       "  <tbody>\n",
       "    <tr>\n",
       "      <th>0</th>\n",
       "      <td>0.758504</td>\n",
       "      <td>-6.019895</td>\n",
       "    </tr>\n",
       "  </tbody>\n",
       "</table>\n",
       "</div>"
      ],
      "text/plain": [
       "          x     score\n",
       "0  0.758504 -6.019895"
      ]
     },
     "execution_count": 11,
     "metadata": {},
     "output_type": "execute_result"
    }
   ],
   "source": [
    "optimizer.get_best_observation()"
   ]
  },
  {
   "cell_type": "code",
   "execution_count": 28,
   "id": "1f615f0a",
   "metadata": {},
   "outputs": [
    {
     "name": "stdout",
     "output_type": "stream",
     "text": [
      "          x\n",
      "0  0.249426\n",
      "          x\n",
      "0  0.127631\n",
      "          x\n",
      "0  0.825619\n",
      "         x\n",
      "0  0.05359\n",
      "          x\n",
      "0  0.281399\n",
      "          x\n",
      "0  0.620541\n",
      "          x\n",
      "0  0.800754\n",
      "          x\n",
      "0  0.232957\n",
      "         x\n",
      "0  0.72763\n",
      "          x\n",
      "0  0.623661\n",
      "          x\n",
      "0  0.015894\n",
      "          x\n",
      "0  0.276474\n",
      "          x\n",
      "0  0.941073\n",
      "          x\n",
      "0  0.017465\n",
      "          x\n",
      "0  0.523295\n",
      "          x\n",
      "0  0.799587\n",
      "          x\n",
      "0  0.145099\n",
      "          x\n",
      "0  0.784602\n",
      "          x\n",
      "0  0.926411\n",
      "          x\n",
      "0  0.069283\n",
      "          x\n",
      "0  0.662156\n",
      "          x\n",
      "0  0.474467\n",
      "          x\n",
      "0  0.787014\n",
      "          x\n",
      "0  0.454093\n",
      "          x\n",
      "0  0.347766\n",
      "          x\n",
      "0  0.995873\n",
      "          x\n",
      "0  0.289056\n",
      "        x\n",
      "0  0.2385\n",
      "          x\n",
      "0  0.546177\n",
      "          x\n",
      "0  0.136686\n",
      "          x\n",
      "0  0.382862\n",
      "          x\n",
      "0  0.825687\n",
      "          x\n",
      "0  0.861957\n",
      "          x\n",
      "0  0.095579\n",
      "          x\n",
      "0  0.470425\n",
      "          x\n",
      "0  0.766471\n",
      "          x\n",
      "0  0.828939\n",
      "          x\n",
      "0  0.677623\n",
      "          x\n",
      "0  0.543587\n",
      "          x\n",
      "0  0.291881\n",
      "          x\n",
      "0  0.968028\n",
      "          x\n",
      "0  0.168481\n",
      "          x\n",
      "0  0.367195\n",
      "          x\n",
      "0  0.213621\n",
      "          x\n",
      "0  0.291138\n",
      "          x\n",
      "0  0.888093\n",
      "          x\n",
      "0  0.678436\n",
      "          x\n",
      "0  0.154392\n",
      "          x\n",
      "0  0.238466\n",
      "          x\n",
      "0  0.787564\n"
     ]
    }
   ],
   "source": [
    "# run for more iterations\n",
    "n_iterations = 50\n",
    "for i in range(n_iterations):\n",
    "    run_optimization(optimizer)"
   ]
  },
  {
   "cell_type": "code",
   "execution_count": 13,
   "id": "5527047d",
   "metadata": {},
   "outputs": [
    {
     "data": {
      "text/html": [
       "<div>\n",
       "<style scoped>\n",
       "    .dataframe tbody tr th:only-of-type {\n",
       "        vertical-align: middle;\n",
       "    }\n",
       "\n",
       "    .dataframe tbody tr th {\n",
       "        vertical-align: top;\n",
       "    }\n",
       "\n",
       "    .dataframe thead th {\n",
       "        text-align: right;\n",
       "    }\n",
       "</style>\n",
       "<table border=\"1\" class=\"dataframe\">\n",
       "  <thead>\n",
       "    <tr style=\"text-align: right;\">\n",
       "      <th></th>\n",
       "      <th>x</th>\n",
       "      <th>score</th>\n",
       "    </tr>\n",
       "  </thead>\n",
       "  <tbody>\n",
       "    <tr>\n",
       "      <th>0</th>\n",
       "      <td>0.757249</td>\n",
       "      <td>-6.02074</td>\n",
       "    </tr>\n",
       "  </tbody>\n",
       "</table>\n",
       "</div>"
      ],
      "text/plain": [
       "          x    score\n",
       "0  0.757249 -6.02074"
      ]
     },
     "execution_count": 13,
     "metadata": {},
     "output_type": "execute_result"
    }
   ],
   "source": [
    "optimizer.get_best_observation()"
   ]
  },
  {
   "cell_type": "code",
   "execution_count": 14,
   "id": "182330ee",
   "metadata": {},
   "outputs": [
    {
     "data": {
      "text/plain": [
       "<matplotlib.legend.Legend at 0x13f4d1bd0>"
      ]
     },
     "execution_count": 14,
     "metadata": {},
     "output_type": "execute_result"
    },
    {
     "data": {
      "image/png": "[encoded data removed]",
      "text/plain": [
       "<Figure size 640x480 with 2 Axes>"
      ]
     },
     "metadata": {},
     "output_type": "display_data"
    }
   ],
   "source": [
    "# evaluate the surrogate function\n",
    "#\n",
    "configs = pd.DataFrame(line.reshape(-1, 1), columns=columns=['target_file_size_multiplier','target_file_size_base'])\n",
    "surrogate_predictions = optimizer.surrogate_predict(configs)\n",
    "\n",
    "# plot the observations\n",
    "#\n",
    "observations = optimizer.get_observations()\n",
    "plt.scatter(observations.x, observations.score, label='observed points')\n",
    "\n",
    "# plot true function (usually unknown)\n",
    "#\n",
    "plt.plot(line, values, label='true function')\n",
    "\n",
    "# plot the surrogate\n",
    "#\n",
    "#ci_raduii = surrogate_predictions['prediction_ci']\n",
    "plt.plot(line, surrogate_predictions, label='surrogate predictions')\n",
    "#plt.fill_between(line, value - ci_radii, value + ci_radii, alpha=.1)\n",
    "#plt.plot(line, -optimizer.utility_function(pd.DataFrame({'x': line})), ':', label='utility_function')\n",
    "\n",
    "ax = plt.gca()\n",
    "ax.set_ylabel(\"Objective function f\")\n",
    "ax.set_xlabel(\"Input variable\")\n",
    "bins_axes = ax.twinx()\n",
    "bins_axes.set_ylabel(\"Points sampled\")\n",
    "pd.DataFrame(observations.x).hist(bins=20, ax=bins_axes, alpha=.3, color='k', label=\"count of query points\")\n",
    "plt.legend()"
   ]
  },
  {
   "cell_type": "code",
   "execution_count": null,
   "id": "f5474249",
   "metadata": {},
   "outputs": [],
   "source": [
    "hyper_parameters_integer = {\n",
    "    \"max_open_files\":[-1,10000, -1],\n",
    "    \"max_total_wal_size\":[0, 100000, 0],\n",
    "    \"delete_obsolete_files_period_micros\":[0, 6 * 60 * 60 * 1000000, 6 * 60 * 60 * 1000000],\n",
    "    \"max_background_jobs\":[2, 10, 2],\n",
    "    \"max_subcompactions\":[1, 100, 1],\n",
    "    \"compaction_readahead_size\":[0, 1000000, 0],\n",
    "    \"writable_file_max_buffer_size\":[0, 1024 * 1024, 1024 * 1024],\n",
    "    \"delayed_write_rate\":[0, 1000000, 0],\n",
    "    \n",
    "    \"max_write_buffer_number\":[1, 10, 2],\n",
    "    \"inplace_update_num_locks\":[0, 10000, 0],\n",
    "    \"memtable_huge_page_size\":[0, 1000000, 0],\n",
    "    \"arena_block_size\":[0, 1000000, 0],\n",
    "    \"level0_slowdown_writes_trigger\":[0, 100, 20],\n",
    "    \"level0_stop_writes_trigger\":[0, 100, 36],\n",
    "    \"target_file_size_base\":[0, 100000000, 64 * 1048576],\n",
    "    \"target_file_size_multiplier\":[0, 100, 1],\n",
    "    \"max_compaction_bytes\":[0, 1000000000, 64 * 1048576 * 25],\n",
    "    \"soft_pending_compaction_bytes_limit\":[0, 1000000000, 64 * 1073741824],\n",
    "    \"hard_pending_compaction_bytes_limit\":[0, 1000000000, 256 * 1073741824]                          \n",
    "}\n",
    "                                           \n",
    "hyper_parameters_float ={\n",
    "    \"memtable_prefix_bloom_size_ratio\":[0.0, 1.0, 0.0],\n",
    "    \"max_bytes_for_level_multiplier\":[0.0, 100.0, 10.0]\n",
    "}\n",
    "                                           \n",
    "hyper_parameters_catagorical ={\n",
    "    \"avoid_flush_during_shutdown\":[[True, False],False],  \n",
    "    \"memtable_whole_key_filtering\":[[True, False],False],\n",
    "   \"compression_per_level\":[[\"kNoCompression\", \"kSnappyCompression\", \"kZlibCompression\", \"kBZip2Compression\", \"kLZ4Compression\", \"kLZ4HCCompression\", \"kXpressCompression\", \"kZSTD\"], \"kNoCompression\"]\n",
    "\n",
    "}"
   ]
  }
 ],
 "metadata": {
  "kernelspec": {
   "display_name": "Python 3 (ipykernel)",
   "language": "python",
   "name": "python3"
  },
  "language_info": {
   "codemirror_mode": {
    "name": "ipython",
    "version": 3
   },
   "file_extension": ".py",
   "mimetype": "text/x-python",
   "name": "python",
   "nbconvert_exporter": "python",
   "pygments_lexer": "ipython3",
   "version": "3.11.5"
  }
 },
 "nbformat": 4,
 "nbformat_minor": 5
}
