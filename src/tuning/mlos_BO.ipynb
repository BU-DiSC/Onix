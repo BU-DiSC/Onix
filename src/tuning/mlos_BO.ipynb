{
 "cells": [
  {
   "cell_type": "code",
   "execution_count": 14,
   "id": "7962d838",
   "metadata": {},
   "outputs": [],
   "source": [
    "import matplotlib.pyplot as plt\n",
    "import numpy as np\n",
    "import pandas as pd\n",
    "import mlos_core.optimizers\n",
    "import ConfigSpace as CS\n",
    "from ConfigSpace import UniformIntegerHyperparameter\n",
    "from ConfigSpace import UniformFloatHyperparameter\n",
    "from ConfigSpace import CategoricalHyperparameter"
   ]
  },
  {
   "cell_type": "code",
   "execution_count": 15,
   "id": "3ff96513",
   "metadata": {},
   "outputs": [],
   "source": [
    "def cost_model(index):\n",
    "    performance_data = pd.read_csv('../../build/performance/performance_metrics.csv', header=None, names=[\"empty_reads\", \"non_empty_reads\", \"range_reads\", \"writes\"])\n",
    "    return performance_data.iloc[index:].mean().sum()"
   ]
  },
  {
   "cell_type": "code",
   "execution_count": 16,
   "id": "95beeb51",
   "metadata": {},
   "outputs": [],
   "source": [
    "# Start defining a ConfigurationSpace for the Optimizer to search.\n",
    "input_space = CS.ConfigurationSpace(seed=1234)\n",
    "\n",
    "max_bytes_for_level_multiplier=CS.Float(\"max_bytes_for_level_multiplier\", (2,20.0), default=10)\n",
    "max_write_buffer_number=CS.Integer(\"max_write_buffer_number\", (1,20), default=2)\n",
    "level0_slowdown_writes_trigger=CS.Integer(\"level0_slowdown_writes_trigger\", (1,50), default=20) \n",
    "level0_stop_writes_trigger=CS.Integer(\"level0_stop_writes_trigger\", (1,50), default=36) \n",
    "target_file_size_base=CS.Integer(\"target_file_size_base\", (1,500 * 1048576), default=64 * 1048576)\n",
    "target_file_size_multiplier=CS.Integer(\"target_file_size_multiplier\", (1,20), default=1)\n",
    "max_background_jobs=CS.Integer(\"max_background_jobs\", (1,20), default=2)\n",
    "max_subcompactions=CS.Integer(\"max_subcompactions\", (1,20), default=1)\n",
    "avoid_flush_during_shutdown=CS.Categorical(\"avoid_flush_during_shutdown\", [True,False], default=True) "
   ]
  },
  {
   "cell_type": "code",
   "execution_count": 17,
   "id": "415c1537",
   "metadata": {},
   "outputs": [
    {
     "data": {
      "text/plain": [
       "[max_bytes_for_level_multiplier, Type: UniformFloat, Range: [2.0, 20.0], Default: 10.0,\n",
       " max_write_buffer_number, Type: UniformInteger, Range: [1, 20], Default: 2,\n",
       " level0_slowdown_writes_trigger, Type: UniformInteger, Range: [1, 50], Default: 20,\n",
       " level0_stop_writes_trigger, Type: UniformInteger, Range: [1, 50], Default: 36,\n",
       " target_file_size_base, Type: UniformInteger, Range: [1, 524288000], Default: 67108864,\n",
       " target_file_size_multiplier, Type: UniformInteger, Range: [1, 20], Default: 1,\n",
       " max_background_jobs, Type: UniformInteger, Range: [1, 20], Default: 2,\n",
       " max_subcompactions, Type: UniformInteger, Range: [1, 20], Default: 1,\n",
       " avoid_flush_during_shutdown, Type: Categorical, Choices: {True, False}, Default: True]"
      ]
     },
     "execution_count": 17,
     "metadata": {},
     "output_type": "execute_result"
    }
   ],
   "source": [
    "input_space.add_hyperparameters([max_bytes_for_level_multiplier,max_write_buffer_number,level0_slowdown_writes_trigger,level0_stop_writes_trigger,\n",
    "                                target_file_size_base,target_file_size_multiplier,max_background_jobs,max_subcompactions,avoid_flush_during_shutdown])"
   ]
  },
  {
   "cell_type": "code",
   "execution_count": 18,
   "id": "363577ae",
   "metadata": {},
   "outputs": [],
   "source": [
    "#optimizer = mlos_core.optimizers.RandomOptimizer(parameter_space=input_space)\n",
    "\n",
    "#optimizer = mlos_core.optimizers.FlamlOptimizer(parameter_space=input_space)\n",
    "\n",
    "optimizer = mlos_core.optimizers.SmacOptimizer(parameter_space=input_space) # , seed=42, n_random_init=20)"
   ]
  },
  {
   "cell_type": "code",
   "execution_count": 19,
   "id": "c2bfd9c8",
   "metadata": {},
   "outputs": [
    {
     "data": {
      "text/plain": [
       "SmacOptimizer(space_adapter=None)"
      ]
     },
     "execution_count": 19,
     "metadata": {},
     "output_type": "execute_result"
    }
   ],
   "source": [
    "optimizer"
   ]
  },
  {
   "cell_type": "code",
   "execution_count": 20,
   "id": "2940d68a",
   "metadata": {},
   "outputs": [],
   "source": [
    "import os\n",
    "import time\n",
    "import sys\n",
    "def pass_values_to_interface(new_val):\n",
    "    #print(new_val)\n",
    "    pipe_path = '../../build/passing_params_pipe'\n",
    "    if not os.path.exists(pipe_path):\n",
    "        os.mkfifo(pipe_path)\n",
    "    pipe_fd = os.open(pipe_path, os.O_RDWR)\n",
    "    data =''\n",
    "    try:\n",
    "        for x in new_val:\n",
    "            data+='\\n' + x + '=' + str(new_val[x].iloc[0])\n",
    "        data=data.encode('utf-8')\n",
    "        os.write(pipe_fd, data)\n",
    "        sys.stdout.flush()\n",
    "    except KeyboardInterrupt:\n",
    "        pass\n",
    "#     finally:\n",
    "#         os.close(pipe_fd)\n"
   ]
  },
  {
   "cell_type": "code",
   "execution_count": 21,
   "id": "1d37e6f7",
   "metadata": {},
   "outputs": [],
   "source": [
    "def read_epochs_pipe():\n",
    "    while True:\n",
    "        epochs_pipe_path = '../../build/passing_epochs'\n",
    "        if os.path.exists(epochs_pipe_path):\n",
    "            epochs_pipe_fd = os.open(epochs_pipe_path, os.O_RDONLY)\n",
    "            try:\n",
    "                buffer_size = 128\n",
    "                buffer = os.read(epochs_pipe_fd, buffer_size).decode('utf-8')\n",
    "                if buffer:\n",
    "                    reported_epochs = int(buffer)\n",
    "                    print(f\"Reported epochs: {reported_epochs}\")\n",
    "                    return reported_epochs\n",
    "            except OSError as e:\n",
    "                if e.errno == os.errno.EAGAIN or e.errno == os.errno.EWOULDBLOCK:\n",
    "                    pass\n",
    "                else:\n",
    "                    raise\n",
    "            finally:\n",
    "                os.close(epochs_pipe_fd)\n",
    "        else:\n",
    "            pass\n",
    "    \n"
   ]
  },
  {
   "cell_type": "code",
   "execution_count": 22,
   "id": "545b2a91",
   "metadata": {},
   "outputs": [
    {
     "name": "stdout",
     "output_type": "stream",
     "text": [
      "Reported epochs: 4942\n",
      "suggested value    avoid_flush_during_shutdown  level0_slowdown_writes_trigger  \\\n",
      "0                        False                              15   \n",
      "\n",
      "   level0_stop_writes_trigger  max_background_jobs  \\\n",
      "0                          46                    5   \n",
      "\n",
      "   max_bytes_for_level_multiplier  max_subcompactions  \\\n",
      "0                       17.609564                  17   \n",
      "\n",
      "   max_write_buffer_number  target_file_size_base  target_file_size_multiplier  \n",
      "0                        7               84427327                           13  \n",
      "target value 1321.25\n",
      "Reported epochs: 4952\n",
      "suggested value    avoid_flush_during_shutdown  level0_slowdown_writes_trigger  \\\n",
      "0                         True                              33   \n",
      "\n",
      "   level0_stop_writes_trigger  max_background_jobs  \\\n",
      "0                          11                   17   \n",
      "\n",
      "   max_bytes_for_level_multiplier  max_subcompactions  \\\n",
      "0                        9.922628                   5   \n",
      "\n",
      "   max_write_buffer_number  target_file_size_base  target_file_size_multiplier  \n",
      "0                       19              370845809                            1  \n",
      "target value 1272.6000000000001\n",
      "Reported epochs: 4962\n",
      "suggested value    avoid_flush_during_shutdown  level0_slowdown_writes_trigger  \\\n",
      "0                         True                               8   \n",
      "\n",
      "   level0_stop_writes_trigger  max_background_jobs  \\\n",
      "0                          36                    7   \n",
      "\n",
      "   max_bytes_for_level_multiplier  max_subcompactions  \\\n",
      "0                         3.67912                   8   \n",
      "\n",
      "   max_write_buffer_number  target_file_size_base  target_file_size_multiplier  \n",
      "0                        3              433598358                            9  \n",
      "target value 1231.3999999999999\n"
     ]
    }
   ],
   "source": [
    "def run_optimization():\n",
    "    # get a new config value suggestion to try from the optimizer.\n",
    "    suggested_value = optimizer.suggest()\n",
    "    pass_values_to_interface(suggested_value)\n",
    "    index=read_epochs_pipe()\n",
    "    time.sleep(5)\n",
    "    if index==-1:\n",
    "        target_value=float('inf')\n",
    "    else:\n",
    "        target_value = cost_model(index)\n",
    "    print(\"suggested value\",suggested_value)\n",
    "    print(\"target value\", target_value)\n",
    "    optimizer.register(suggested_value, pd.Series([target_value]))\n",
    "\n",
    "\n",
    "n_iterations = 3\n",
    "for i in range(n_iterations):\n",
    "    run_optimization()"
   ]
  },
  {
   "cell_type": "code",
   "execution_count": 23,
   "id": "301e8399",
   "metadata": {},
   "outputs": [
    {
     "data": {
      "text/html": [
       "<div>\n",
       "<style scoped>\n",
       "    .dataframe tbody tr th:only-of-type {\n",
       "        vertical-align: middle;\n",
       "    }\n",
       "\n",
       "    .dataframe tbody tr th {\n",
       "        vertical-align: top;\n",
       "    }\n",
       "\n",
       "    .dataframe thead th {\n",
       "        text-align: right;\n",
       "    }\n",
       "</style>\n",
       "<table border=\"1\" class=\"dataframe\">\n",
       "  <thead>\n",
       "    <tr style=\"text-align: right;\">\n",
       "      <th></th>\n",
       "      <th>avoid_flush_during_shutdown</th>\n",
       "      <th>level0_slowdown_writes_trigger</th>\n",
       "      <th>level0_stop_writes_trigger</th>\n",
       "      <th>max_background_jobs</th>\n",
       "      <th>max_bytes_for_level_multiplier</th>\n",
       "      <th>max_subcompactions</th>\n",
       "      <th>max_write_buffer_number</th>\n",
       "      <th>target_file_size_base</th>\n",
       "      <th>target_file_size_multiplier</th>\n",
       "      <th>score</th>\n",
       "    </tr>\n",
       "  </thead>\n",
       "  <tbody>\n",
       "    <tr>\n",
       "      <th>0</th>\n",
       "      <td>False</td>\n",
       "      <td>15</td>\n",
       "      <td>46</td>\n",
       "      <td>5</td>\n",
       "      <td>17.609564</td>\n",
       "      <td>17</td>\n",
       "      <td>7</td>\n",
       "      <td>84427327</td>\n",
       "      <td>13</td>\n",
       "      <td>1321.25</td>\n",
       "    </tr>\n",
       "    <tr>\n",
       "      <th>0</th>\n",
       "      <td>True</td>\n",
       "      <td>33</td>\n",
       "      <td>11</td>\n",
       "      <td>17</td>\n",
       "      <td>9.922628</td>\n",
       "      <td>5</td>\n",
       "      <td>19</td>\n",
       "      <td>370845809</td>\n",
       "      <td>1</td>\n",
       "      <td>1272.60</td>\n",
       "    </tr>\n",
       "    <tr>\n",
       "      <th>0</th>\n",
       "      <td>True</td>\n",
       "      <td>8</td>\n",
       "      <td>36</td>\n",
       "      <td>7</td>\n",
       "      <td>3.679120</td>\n",
       "      <td>8</td>\n",
       "      <td>3</td>\n",
       "      <td>433598358</td>\n",
       "      <td>9</td>\n",
       "      <td>1231.40</td>\n",
       "    </tr>\n",
       "  </tbody>\n",
       "</table>\n",
       "</div>"
      ],
      "text/plain": [
       "   avoid_flush_during_shutdown  level0_slowdown_writes_trigger  \\\n",
       "0                        False                              15   \n",
       "0                         True                              33   \n",
       "0                         True                               8   \n",
       "\n",
       "   level0_stop_writes_trigger  max_background_jobs  \\\n",
       "0                          46                    5   \n",
       "0                          11                   17   \n",
       "0                          36                    7   \n",
       "\n",
       "   max_bytes_for_level_multiplier  max_subcompactions  \\\n",
       "0                       17.609564                  17   \n",
       "0                        9.922628                   5   \n",
       "0                        3.679120                   8   \n",
       "\n",
       "   max_write_buffer_number  target_file_size_base  \\\n",
       "0                        7               84427327   \n",
       "0                       19              370845809   \n",
       "0                        3              433598358   \n",
       "\n",
       "   target_file_size_multiplier    score  \n",
       "0                           13  1321.25  \n",
       "0                            1  1272.60  \n",
       "0                            9  1231.40  "
      ]
     },
     "execution_count": 23,
     "metadata": {},
     "output_type": "execute_result"
    }
   ],
   "source": [
    "optimizer.get_observations()"
   ]
  },
  {
   "cell_type": "code",
   "execution_count": 24,
   "id": "b92eaba6",
   "metadata": {},
   "outputs": [
    {
     "data": {
      "text/html": [
       "<div>\n",
       "<style scoped>\n",
       "    .dataframe tbody tr th:only-of-type {\n",
       "        vertical-align: middle;\n",
       "    }\n",
       "\n",
       "    .dataframe tbody tr th {\n",
       "        vertical-align: top;\n",
       "    }\n",
       "\n",
       "    .dataframe thead th {\n",
       "        text-align: right;\n",
       "    }\n",
       "</style>\n",
       "<table border=\"1\" class=\"dataframe\">\n",
       "  <thead>\n",
       "    <tr style=\"text-align: right;\">\n",
       "      <th></th>\n",
       "      <th>avoid_flush_during_shutdown</th>\n",
       "      <th>level0_slowdown_writes_trigger</th>\n",
       "      <th>level0_stop_writes_trigger</th>\n",
       "      <th>max_background_jobs</th>\n",
       "      <th>max_bytes_for_level_multiplier</th>\n",
       "      <th>max_subcompactions</th>\n",
       "      <th>max_write_buffer_number</th>\n",
       "      <th>target_file_size_base</th>\n",
       "      <th>target_file_size_multiplier</th>\n",
       "      <th>score</th>\n",
       "    </tr>\n",
       "  </thead>\n",
       "  <tbody>\n",
       "    <tr>\n",
       "      <th>0</th>\n",
       "      <td>True</td>\n",
       "      <td>8</td>\n",
       "      <td>36</td>\n",
       "      <td>7</td>\n",
       "      <td>3.67912</td>\n",
       "      <td>8</td>\n",
       "      <td>3</td>\n",
       "      <td>433598358</td>\n",
       "      <td>9</td>\n",
       "      <td>1231.4</td>\n",
       "    </tr>\n",
       "  </tbody>\n",
       "</table>\n",
       "</div>"
      ],
      "text/plain": [
       "   avoid_flush_during_shutdown  level0_slowdown_writes_trigger  \\\n",
       "0                         True                               8   \n",
       "\n",
       "   level0_stop_writes_trigger  max_background_jobs  \\\n",
       "0                          36                    7   \n",
       "\n",
       "   max_bytes_for_level_multiplier  max_subcompactions  \\\n",
       "0                         3.67912                   8   \n",
       "\n",
       "   max_write_buffer_number  target_file_size_base  \\\n",
       "0                        3              433598358   \n",
       "\n",
       "   target_file_size_multiplier   score  \n",
       "0                            9  1231.4  "
      ]
     },
     "execution_count": 24,
     "metadata": {},
     "output_type": "execute_result"
    }
   ],
   "source": [
    "optimizer.get_best_observation()"
   ]
  },
  {
   "cell_type": "code",
   "execution_count": 25,
   "id": "59fa238c",
   "metadata": {},
   "outputs": [],
   "source": [
    "optimum_value=optimizer.suggest()\n",
    "pass_values_to_interface(optimum_value)"
   ]
  },
  {
   "cell_type": "code",
   "execution_count": 26,
   "id": "2a8b12d6",
   "metadata": {},
   "outputs": [
    {
     "name": "stdout",
     "output_type": "stream",
     "text": [
      "   avoid_flush_during_shutdown  level0_slowdown_writes_trigger  \\\n",
      "0                        False                              40   \n",
      "\n",
      "   level0_stop_writes_trigger  max_background_jobs  \\\n",
      "0                          22                   14   \n",
      "\n",
      "   max_bytes_for_level_multiplier  max_subcompactions  \\\n",
      "0                       15.028887                  11   \n",
      "\n",
      "   max_write_buffer_number  target_file_size_base  target_file_size_multiplier  \n",
      "0                       11              163048777                           20  \n"
     ]
    }
   ],
   "source": [
    "print(optimum_value)"
   ]
  },
  {
   "cell_type": "code",
   "execution_count": null,
   "id": "f5474249",
   "metadata": {},
   "outputs": [],
   "source": [
    "hyper_parameters_integer = {\n",
    "    \"max_open_files\":[-1,10000, -1],\n",
    "    \"max_total_wal_size\":[0, 100000, 0],\n",
    "    \"delete_obsolete_files_period_micros\":[0, 6 * 60 * 60 * 1000000, 6 * 60 * 60 * 1000000],\n",
    "    \"max_background_jobs\":[2, 10, 2],\n",
    "    \"max_subcompactions\":[1, 100, 1],\n",
    "    \"compaction_readahead_size\":[0, 1000000, 0],\n",
    "    \"writable_file_max_buffer_size\":[0, 1024 * 1024, 1024 * 1024],\n",
    "    \"delayed_write_rate\":[0, 1000000, 0],\n",
    "    \n",
    "    \"max_write_buffer_number\":[1, 10, 2],\n",
    "    \"inplace_update_num_locks\":[0, 10000, 0],\n",
    "    \"memtable_huge_page_size\":[0, 1000000, 0],\n",
    "    \"arena_block_size\":[0, 1000000, 0],\n",
    "    \"level0_slowdown_writes_trigger\":[0, 100, 20],\n",
    "    \"level0_stop_writes_trigger\":[0, 100, 36],\n",
    "    \"target_file_size_base\":[0, 100000000, 64 * 1048576],\n",
    "    \"target_file_size_multiplier\":[0, 100, 1],\n",
    "    \"max_compaction_bytes\":[0, 1000000000, 64 * 1048576 * 25],\n",
    "    \"soft_pending_compaction_bytes_limit\":[0, 1000000000, 64 * 1073741824],\n",
    "    \"hard_pending_compaction_bytes_limit\":[0, 1000000000, 256 * 1073741824]                          \n",
    "}\n",
    "                                           \n",
    "hyper_parameters_float ={\n",
    "    \"memtable_prefix_bloom_size_ratio\":[0.0, 1.0, 0.0],\n",
    "    \"max_bytes_for_level_multiplier\":[0.0, 100.0, 10.0]\n",
    "}\n",
    "                                           \n",
    "hyper_parameters_catagorical ={\n",
    "    \"avoid_flush_during_shutdown\":[[True, False],False],  \n",
    "    \"memtable_whole_key_filtering\":[[True, False],False],\n",
    "   \"compression_per_level\":[[\"kNoCompression\", \"kSnappyCompression\", \"kZlibCompression\", \"kBZip2Compression\", \"kLZ4Compression\", \"kLZ4HCCompression\", \"kXpressCompression\", \"kZSTD\"], \"kNoCompression\"]\n",
    "\n",
    "}"
   ]
  },
  {
   "cell_type": "code",
   "execution_count": null,
   "id": "35ae67d0",
   "metadata": {},
   "outputs": [],
   "source": []
  }
 ],
 "metadata": {
  "kernelspec": {
   "display_name": "Python 3 (ipykernel)",
   "language": "python",
   "name": "python3"
  },
  "language_info": {
   "codemirror_mode": {
    "name": "ipython",
    "version": 3
   },
   "file_extension": ".py",
   "mimetype": "text/x-python",
   "name": "python",
   "nbconvert_exporter": "python",
   "pygments_lexer": "ipython3",
   "version": "3.11.5"
  }
 },
 "nbformat": 4,
 "nbformat_minor": 5
}
