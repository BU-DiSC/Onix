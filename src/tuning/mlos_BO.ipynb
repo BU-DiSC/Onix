{
 "cells": [
  {
   "cell_type": "code",
   "execution_count": 21,
   "id": "7962d838",
   "metadata": {},
   "outputs": [],
   "source": [
    "import matplotlib.pyplot as plt\n",
    "import numpy as np\n",
    "import pandas as pd\n",
    "import mlos_core.optimizers\n",
    "import ConfigSpace as CS\n",
    "from ConfigSpace import UniformIntegerHyperparameter\n",
    "from ConfigSpace import UniformFloatHyperparameter\n",
    "from ConfigSpace import CategoricalHyperparameter"
   ]
  },
  {
   "cell_type": "code",
   "execution_count": 22,
   "id": "3ff96513",
   "metadata": {},
   "outputs": [],
   "source": [
    "def cost_model(index):\n",
    "    performance_data = pd.read_csv('../../build/performance/performance_metrics.csv', header=None, names=[\"empty_reads\", \"non_empty_reads\", \"range_reads\", \"writes\"])\n",
    "    return performance_data.iloc[index:].mean().sum()"
   ]
  },
  {
   "cell_type": "code",
   "execution_count": 38,
   "id": "95beeb51",
   "metadata": {},
   "outputs": [],
   "source": [
    "# Start defining a ConfigurationSpace for the Optimizer to search.\n",
    "input_space = CS.ConfigurationSpace(seed=1234)\n",
    "\n",
    "max_bytes_for_level_multiplier=CS.Float(\"max_bytes_for_level_multiplier\", (2,20.0), default=10)\n",
    "max_write_buffer_number=CS.Integer(\"max_write_buffer_number\", (1,20), default=2) #type - integer\n",
    "avoid_flush_during_shutdown=CS.Float(\"avoid_flush_during_shutdown\", (0,1), default=0) #type - categorical - allowed - true, false"
   ]
  },
  {
   "cell_type": "code",
   "execution_count": 39,
   "id": "415c1537",
   "metadata": {},
   "outputs": [
    {
     "data": {
      "text/plain": [
       "[max_write_buffer_number, Type: UniformInteger, Range: [1, 20], Default: 2,\n",
       " max_bytes_for_level_multiplier, Type: UniformFloat, Range: [2.0, 20.0], Default: 10.0,\n",
       " avoid_flush_during_shutdown, Type: UniformFloat, Range: [0.0, 1.0], Default: 0.0]"
      ]
     },
     "execution_count": 39,
     "metadata": {},
     "output_type": "execute_result"
    }
   ],
   "source": [
    "input_space.add_hyperparameters([max_write_buffer_number,max_bytes_for_level_multiplier,avoid_flush_during_shutdown])"
   ]
  },
  {
   "cell_type": "code",
   "execution_count": 40,
   "id": "363577ae",
   "metadata": {},
   "outputs": [],
   "source": [
    "#optimizer = mlos_core.optimizers.RandomOptimizer(parameter_space=input_space)\n",
    "\n",
    "#optimizer = mlos_core.optimizers.FlamlOptimizer(parameter_space=input_space)\n",
    "\n",
    "optimizer = mlos_core.optimizers.SmacOptimizer(parameter_space=input_space) # , seed=42, n_random_init=20)"
   ]
  },
  {
   "cell_type": "code",
   "execution_count": 41,
   "id": "c2bfd9c8",
   "metadata": {},
   "outputs": [
    {
     "data": {
      "text/plain": [
       "SmacOptimizer(space_adapter=None)"
      ]
     },
     "execution_count": 41,
     "metadata": {},
     "output_type": "execute_result"
    }
   ],
   "source": [
    "optimizer"
   ]
  },
  {
   "cell_type": "code",
   "execution_count": 42,
   "id": "2940d68a",
   "metadata": {},
   "outputs": [],
   "source": [
    "import os\n",
    "import time\n",
    "import sys\n",
    "def pass_values_to_interface(new_val):\n",
    "    #print(new_val)\n",
    "    pipe_path = '../../build/passing_params_pipe'\n",
    "    if not os.path.exists(pipe_path):\n",
    "        os.mkfifo(pipe_path)\n",
    "    pipe_fd = os.open(pipe_path, os.O_RDWR)\n",
    "    data =''\n",
    "    try:\n",
    "        for x in new_val:\n",
    "            data+='\\n' + x + '=' + str(new_val[x].iloc[0])\n",
    "        data=data.encode('utf-8')\n",
    "        os.write(pipe_fd, data)\n",
    "        sys.stdout.flush()\n",
    "    except KeyboardInterrupt:\n",
    "        pass\n",
    "#     finally:\n",
    "#         os.close(pipe_fd)\n"
   ]
  },
  {
   "cell_type": "code",
   "execution_count": 43,
   "id": "1d37e6f7",
   "metadata": {},
   "outputs": [],
   "source": [
    "def read_epochs_pipe():\n",
    "    while True:\n",
    "        epochs_pipe_path = '../../build/passing_epochs'\n",
    "        if os.path.exists(epochs_pipe_path):\n",
    "            epochs_pipe_fd = os.open(epochs_pipe_path, os.O_RDONLY)\n",
    "            try:\n",
    "                buffer_size = 128\n",
    "                buffer = os.read(epochs_pipe_fd, buffer_size).decode('utf-8')\n",
    "                if buffer:\n",
    "                    reported_epochs = int(buffer)\n",
    "                    print(f\"Reported epochs: {reported_epochs}\")\n",
    "                    return reported_epochs\n",
    "            except OSError as e:\n",
    "                if e.errno == os.errno.EAGAIN or e.errno == os.errno.EWOULDBLOCK:\n",
    "                    pass\n",
    "                else:\n",
    "                    raise\n",
    "            finally:\n",
    "                os.close(epochs_pipe_fd)\n",
    "        else:\n",
    "            pass\n",
    "    \n"
   ]
  },
  {
   "cell_type": "code",
   "execution_count": 44,
   "id": "545b2a91",
   "metadata": {},
   "outputs": [
    {
     "name": "stdout",
     "output_type": "stream",
     "text": [
      "Reported epochs: 7032\n"
     ]
    },
    {
     "ename": "IllegalValueError",
     "evalue": "Value 15.0: (<class 'float'>) is not allowed for hyperparameter max_write_buffer_number, Type: UniformInteger, Range: [1, 20], Default: 2",
     "output_type": "error",
     "traceback": [
      "\u001b[0;31m---------------------------------------------------------------------------\u001b[0m",
      "\u001b[0;31mIllegalValueError\u001b[0m                         Traceback (most recent call last)",
      "Cell \u001b[0;32mIn[44], line 17\u001b[0m\n\u001b[1;32m     15\u001b[0m n_iterations \u001b[38;5;241m=\u001b[39m \u001b[38;5;241m3\u001b[39m\n\u001b[1;32m     16\u001b[0m \u001b[38;5;28;01mfor\u001b[39;00m i \u001b[38;5;129;01min\u001b[39;00m \u001b[38;5;28mrange\u001b[39m(n_iterations):\n\u001b[0;32m---> 17\u001b[0m     run_optimization()\n",
      "Cell \u001b[0;32mIn[44], line 12\u001b[0m, in \u001b[0;36mrun_optimization\u001b[0;34m()\u001b[0m\n\u001b[1;32m     10\u001b[0m \u001b[38;5;28;01melse\u001b[39;00m:\n\u001b[1;32m     11\u001b[0m     target_value \u001b[38;5;241m=\u001b[39m cost_model(index)\n\u001b[0;32m---> 12\u001b[0m optimizer\u001b[38;5;241m.\u001b[39mregister(suggested_value, pd\u001b[38;5;241m.\u001b[39mSeries([target_value]))\n",
      "File \u001b[0;32m~/Desktop/Sakshi/Boston_University/DISC/mlos/MLOS/libraries/MLOS/mlos_core/mlos_core/optimizers/optimizer.py:91\u001b[0m, in \u001b[0;36mBaseOptimizer.register\u001b[0;34m(self, configurations, scores, context)\u001b[0m\n\u001b[1;32m     88\u001b[0m     configurations \u001b[38;5;241m=\u001b[39m \u001b[38;5;28mself\u001b[39m\u001b[38;5;241m.\u001b[39m_space_adapter\u001b[38;5;241m.\u001b[39minverse_transform(configurations)\n\u001b[1;32m     89\u001b[0m     \u001b[38;5;28;01massert\u001b[39;00m configurations\u001b[38;5;241m.\u001b[39mshape[\u001b[38;5;241m1\u001b[39m] \u001b[38;5;241m==\u001b[39m \u001b[38;5;28mlen\u001b[39m(\u001b[38;5;28mself\u001b[39m\u001b[38;5;241m.\u001b[39moptimizer_parameter_space\u001b[38;5;241m.\u001b[39mvalues()), \\\n\u001b[1;32m     90\u001b[0m         \u001b[38;5;124m\"\u001b[39m\u001b[38;5;124mMismatched configuration shape after inverse transform.\u001b[39m\u001b[38;5;124m\"\u001b[39m\n\u001b[0;32m---> 91\u001b[0m \u001b[38;5;28;01mreturn\u001b[39;00m \u001b[38;5;28mself\u001b[39m\u001b[38;5;241m.\u001b[39m_register(configurations, scores, context)\n",
      "File \u001b[0;32m~/Desktop/Sakshi/Boston_University/DISC/mlos/MLOS/libraries/MLOS/mlos_core/mlos_core/optimizers/bayesian_optimizers/smac_optimizer.py:247\u001b[0m, in \u001b[0;36mSmacOptimizer._register\u001b[0;34m(self, configurations, scores, context)\u001b[0m\n\u001b[1;32m    244\u001b[0m     \u001b[38;5;28;01mraise\u001b[39;00m \u001b[38;5;167;01mNotImplementedError\u001b[39;00m()\n\u001b[1;32m    246\u001b[0m \u001b[38;5;66;03m# Register each trial (one-by-one)\u001b[39;00m\n\u001b[0;32m--> 247\u001b[0m \u001b[38;5;28;01mfor\u001b[39;00m config, score \u001b[38;5;129;01min\u001b[39;00m \u001b[38;5;28mzip\u001b[39m(\u001b[38;5;28mself\u001b[39m\u001b[38;5;241m.\u001b[39m_to_configspace_configs(configurations), scores):\n\u001b[1;32m    248\u001b[0m     \u001b[38;5;66;03m# Retrieve previously generated TrialInfo (returned by .ask()) or create new TrialInfo instance\u001b[39;00m\n\u001b[1;32m    249\u001b[0m     info: TrialInfo \u001b[38;5;241m=\u001b[39m \u001b[38;5;28mself\u001b[39m\u001b[38;5;241m.\u001b[39mtrial_info_map\u001b[38;5;241m.\u001b[39mget(config, TrialInfo(config\u001b[38;5;241m=\u001b[39mconfig, seed\u001b[38;5;241m=\u001b[39m\u001b[38;5;28mself\u001b[39m\u001b[38;5;241m.\u001b[39mbase_optimizer\u001b[38;5;241m.\u001b[39mscenario\u001b[38;5;241m.\u001b[39mseed))\n\u001b[1;32m    250\u001b[0m     value: TrialValue \u001b[38;5;241m=\u001b[39m TrialValue(cost\u001b[38;5;241m=\u001b[39mscore, time\u001b[38;5;241m=\u001b[39m\u001b[38;5;241m0.0\u001b[39m, status\u001b[38;5;241m=\u001b[39mStatusType\u001b[38;5;241m.\u001b[39mSUCCESS)\n",
      "File \u001b[0;32m~/Desktop/Sakshi/Boston_University/DISC/mlos/MLOS/libraries/MLOS/mlos_core/mlos_core/optimizers/bayesian_optimizers/smac_optimizer.py:337\u001b[0m, in \u001b[0;36mSmacOptimizer._to_configspace_configs\u001b[0;34m(self, configurations)\u001b[0m\n\u001b[1;32m    324\u001b[0m \u001b[38;5;28;01mdef\u001b[39;00m \u001b[38;5;21m_to_configspace_configs\u001b[39m(\u001b[38;5;28mself\u001b[39m, configurations: pd\u001b[38;5;241m.\u001b[39mDataFrame) \u001b[38;5;241m-\u001b[39m\u001b[38;5;241m>\u001b[39m List[ConfigSpace\u001b[38;5;241m.\u001b[39mConfiguration]:\n\u001b[1;32m    325\u001b[0m \u001b[38;5;250m    \u001b[39m\u001b[38;5;124;03m\"\"\"Convert a dataframe of configurations to a list of ConfigSpace configurations.\u001b[39;00m\n\u001b[1;32m    326\u001b[0m \n\u001b[1;32m    327\u001b[0m \u001b[38;5;124;03m    Parameters\u001b[39;00m\n\u001b[0;32m   (...)\u001b[0m\n\u001b[1;32m    335\u001b[0m \u001b[38;5;124;03m        List of ConfigSpace configurations.\u001b[39;00m\n\u001b[1;32m    336\u001b[0m \u001b[38;5;124;03m    \"\"\"\u001b[39;00m\n\u001b[0;32m--> 337\u001b[0m     \u001b[38;5;28;01mreturn\u001b[39;00m [\n\u001b[1;32m    338\u001b[0m         ConfigSpace\u001b[38;5;241m.\u001b[39mConfiguration(\u001b[38;5;28mself\u001b[39m\u001b[38;5;241m.\u001b[39moptimizer_parameter_space, values\u001b[38;5;241m=\u001b[39mconfig\u001b[38;5;241m.\u001b[39mto_dict())\n\u001b[1;32m    339\u001b[0m         \u001b[38;5;28;01mfor\u001b[39;00m (_, config) \u001b[38;5;129;01min\u001b[39;00m configurations\u001b[38;5;241m.\u001b[39miterrows()\n\u001b[1;32m    340\u001b[0m     ]\n",
      "File \u001b[0;32m~/Desktop/Sakshi/Boston_University/DISC/mlos/MLOS/libraries/MLOS/mlos_core/mlos_core/optimizers/bayesian_optimizers/smac_optimizer.py:338\u001b[0m, in \u001b[0;36m<listcomp>\u001b[0;34m(.0)\u001b[0m\n\u001b[1;32m    324\u001b[0m \u001b[38;5;28;01mdef\u001b[39;00m \u001b[38;5;21m_to_configspace_configs\u001b[39m(\u001b[38;5;28mself\u001b[39m, configurations: pd\u001b[38;5;241m.\u001b[39mDataFrame) \u001b[38;5;241m-\u001b[39m\u001b[38;5;241m>\u001b[39m List[ConfigSpace\u001b[38;5;241m.\u001b[39mConfiguration]:\n\u001b[1;32m    325\u001b[0m \u001b[38;5;250m    \u001b[39m\u001b[38;5;124;03m\"\"\"Convert a dataframe of configurations to a list of ConfigSpace configurations.\u001b[39;00m\n\u001b[1;32m    326\u001b[0m \n\u001b[1;32m    327\u001b[0m \u001b[38;5;124;03m    Parameters\u001b[39;00m\n\u001b[0;32m   (...)\u001b[0m\n\u001b[1;32m    335\u001b[0m \u001b[38;5;124;03m        List of ConfigSpace configurations.\u001b[39;00m\n\u001b[1;32m    336\u001b[0m \u001b[38;5;124;03m    \"\"\"\u001b[39;00m\n\u001b[1;32m    337\u001b[0m     \u001b[38;5;28;01mreturn\u001b[39;00m [\n\u001b[0;32m--> 338\u001b[0m         ConfigSpace\u001b[38;5;241m.\u001b[39mConfiguration(\u001b[38;5;28mself\u001b[39m\u001b[38;5;241m.\u001b[39moptimizer_parameter_space, values\u001b[38;5;241m=\u001b[39mconfig\u001b[38;5;241m.\u001b[39mto_dict())\n\u001b[1;32m    339\u001b[0m         \u001b[38;5;28;01mfor\u001b[39;00m (_, config) \u001b[38;5;129;01min\u001b[39;00m configurations\u001b[38;5;241m.\u001b[39miterrows()\n\u001b[1;32m    340\u001b[0m     ]\n",
      "File \u001b[0;32m~/miniconda3/envs/mlos/lib/python3.11/site-packages/ConfigSpace/configuration.py:90\u001b[0m, in \u001b[0;36mConfiguration.__init__\u001b[0;34m(self, configuration_space, values, vector, allow_inactive_with_values, origin, config_id)\u001b[0m\n\u001b[1;32m     87\u001b[0m     \u001b[38;5;28;01mcontinue\u001b[39;00m\n\u001b[1;32m     89\u001b[0m \u001b[38;5;28;01mif\u001b[39;00m \u001b[38;5;129;01mnot\u001b[39;00m hp\u001b[38;5;241m.\u001b[39mis_legal(value):\n\u001b[0;32m---> 90\u001b[0m     \u001b[38;5;28;01mraise\u001b[39;00m IllegalValueError(hp, value)\n\u001b[1;32m     92\u001b[0m \u001b[38;5;66;03m# Truncate the float to be of constant length for a python version\u001b[39;00m\n\u001b[1;32m     93\u001b[0m \u001b[38;5;28;01mif\u001b[39;00m \u001b[38;5;28misinstance\u001b[39m(hp, FloatHyperparameter):\n",
      "\u001b[0;31mIllegalValueError\u001b[0m: Value 15.0: (<class 'float'>) is not allowed for hyperparameter max_write_buffer_number, Type: UniformInteger, Range: [1, 20], Default: 2"
     ]
    }
   ],
   "source": [
    "def run_optimization():\n",
    "    # get a new config value suggestion to try from the optimizer.\n",
    "    suggested_value = optimizer.suggest()\n",
    "    pass_values_to_interface(suggested_value)\n",
    "\n",
    "    index=read_epochs_pipe()\n",
    "    time.sleep(5)\n",
    "    if index==-1:\n",
    "        target_value=float('inf')\n",
    "    else:\n",
    "        target_value = cost_model(index)\n",
    "    optimizer.register(suggested_value, pd.Series([target_value]))\n",
    "\n",
    "\n",
    "n_iterations = 3\n",
    "for i in range(n_iterations):\n",
    "    run_optimization()"
   ]
  },
  {
   "cell_type": "code",
   "execution_count": 31,
   "id": "301e8399",
   "metadata": {},
   "outputs": [
    {
     "data": {
      "text/html": [
       "<div>\n",
       "<style scoped>\n",
       "    .dataframe tbody tr th:only-of-type {\n",
       "        vertical-align: middle;\n",
       "    }\n",
       "\n",
       "    .dataframe tbody tr th {\n",
       "        vertical-align: top;\n",
       "    }\n",
       "\n",
       "    .dataframe thead th {\n",
       "        text-align: right;\n",
       "    }\n",
       "</style>\n",
       "<table border=\"1\" class=\"dataframe\">\n",
       "  <thead>\n",
       "    <tr style=\"text-align: right;\">\n",
       "      <th></th>\n",
       "      <th>avoid_flush_during_shutdown</th>\n",
       "      <th>max_bytes_for_level_multiplier</th>\n",
       "      <th>max_write_buffer_number</th>\n",
       "      <th>score</th>\n",
       "    </tr>\n",
       "  </thead>\n",
       "  <tbody>\n",
       "    <tr>\n",
       "      <th>0</th>\n",
       "      <td>0.246147</td>\n",
       "      <td>2.396822</td>\n",
       "      <td>18.446806</td>\n",
       "      <td>236.066667</td>\n",
       "    </tr>\n",
       "    <tr>\n",
       "      <th>0</th>\n",
       "      <td>0.312472</td>\n",
       "      <td>17.846580</td>\n",
       "      <td>2.973814</td>\n",
       "      <td>211.800000</td>\n",
       "    </tr>\n",
       "    <tr>\n",
       "      <th>0</th>\n",
       "      <td>0.791351</td>\n",
       "      <td>10.323446</td>\n",
       "      <td>11.955038</td>\n",
       "      <td>223.800000</td>\n",
       "    </tr>\n",
       "  </tbody>\n",
       "</table>\n",
       "</div>"
      ],
      "text/plain": [
       "   avoid_flush_during_shutdown  max_bytes_for_level_multiplier  \\\n",
       "0                     0.246147                        2.396822   \n",
       "0                     0.312472                       17.846580   \n",
       "0                     0.791351                       10.323446   \n",
       "\n",
       "   max_write_buffer_number       score  \n",
       "0                18.446806  236.066667  \n",
       "0                 2.973814  211.800000  \n",
       "0                11.955038  223.800000  "
      ]
     },
     "execution_count": 31,
     "metadata": {},
     "output_type": "execute_result"
    }
   ],
   "source": [
    "optimizer.get_observations()"
   ]
  },
  {
   "cell_type": "code",
   "execution_count": 32,
   "id": "b92eaba6",
   "metadata": {},
   "outputs": [
    {
     "data": {
      "text/html": [
       "<div>\n",
       "<style scoped>\n",
       "    .dataframe tbody tr th:only-of-type {\n",
       "        vertical-align: middle;\n",
       "    }\n",
       "\n",
       "    .dataframe tbody tr th {\n",
       "        vertical-align: top;\n",
       "    }\n",
       "\n",
       "    .dataframe thead th {\n",
       "        text-align: right;\n",
       "    }\n",
       "</style>\n",
       "<table border=\"1\" class=\"dataframe\">\n",
       "  <thead>\n",
       "    <tr style=\"text-align: right;\">\n",
       "      <th></th>\n",
       "      <th>avoid_flush_during_shutdown</th>\n",
       "      <th>max_bytes_for_level_multiplier</th>\n",
       "      <th>max_write_buffer_number</th>\n",
       "      <th>score</th>\n",
       "    </tr>\n",
       "  </thead>\n",
       "  <tbody>\n",
       "    <tr>\n",
       "      <th>0</th>\n",
       "      <td>0.312472</td>\n",
       "      <td>17.84658</td>\n",
       "      <td>2.973814</td>\n",
       "      <td>211.8</td>\n",
       "    </tr>\n",
       "  </tbody>\n",
       "</table>\n",
       "</div>"
      ],
      "text/plain": [
       "   avoid_flush_during_shutdown  max_bytes_for_level_multiplier  \\\n",
       "0                     0.312472                        17.84658   \n",
       "\n",
       "   max_write_buffer_number  score  \n",
       "0                 2.973814  211.8  "
      ]
     },
     "execution_count": 32,
     "metadata": {},
     "output_type": "execute_result"
    }
   ],
   "source": [
    "optimizer.get_best_observation()"
   ]
  },
  {
   "cell_type": "code",
   "execution_count": 36,
   "id": "4831e01d",
   "metadata": {},
   "outputs": [],
   "source": [
    "optimum_value=optimizer.suggest()\n",
    "pass_values_to_interface(optimum_value)"
   ]
  },
  {
   "cell_type": "code",
   "execution_count": 37,
   "id": "a053a059",
   "metadata": {},
   "outputs": [
    {
     "name": "stdout",
     "output_type": "stream",
     "text": [
      "   avoid_flush_during_shutdown  max_bytes_for_level_multiplier  \\\n",
      "0                     0.104351                       15.493505   \n",
      "\n",
      "   max_write_buffer_number  \n",
      "0                13.572928  \n"
     ]
    }
   ],
   "source": [
    "print(optimum_value)"
   ]
  },
  {
   "cell_type": "code",
   "execution_count": null,
   "id": "f5474249",
   "metadata": {},
   "outputs": [],
   "source": [
    "hyper_parameters_integer = {\n",
    "    \"max_open_files\":[-1,10000, -1],\n",
    "    \"max_total_wal_size\":[0, 100000, 0],\n",
    "    \"delete_obsolete_files_period_micros\":[0, 6 * 60 * 60 * 1000000, 6 * 60 * 60 * 1000000],\n",
    "    \"max_background_jobs\":[2, 10, 2],\n",
    "    \"max_subcompactions\":[1, 100, 1],\n",
    "    \"compaction_readahead_size\":[0, 1000000, 0],\n",
    "    \"writable_file_max_buffer_size\":[0, 1024 * 1024, 1024 * 1024],\n",
    "    \"delayed_write_rate\":[0, 1000000, 0],\n",
    "    \n",
    "    \"max_write_buffer_number\":[1, 10, 2],\n",
    "    \"inplace_update_num_locks\":[0, 10000, 0],\n",
    "    \"memtable_huge_page_size\":[0, 1000000, 0],\n",
    "    \"arena_block_size\":[0, 1000000, 0],\n",
    "    \"level0_slowdown_writes_trigger\":[0, 100, 20],\n",
    "    \"level0_stop_writes_trigger\":[0, 100, 36],\n",
    "    \"target_file_size_base\":[0, 100000000, 64 * 1048576],\n",
    "    \"target_file_size_multiplier\":[0, 100, 1],\n",
    "    \"max_compaction_bytes\":[0, 1000000000, 64 * 1048576 * 25],\n",
    "    \"soft_pending_compaction_bytes_limit\":[0, 1000000000, 64 * 1073741824],\n",
    "    \"hard_pending_compaction_bytes_limit\":[0, 1000000000, 256 * 1073741824]                          \n",
    "}\n",
    "                                           \n",
    "hyper_parameters_float ={\n",
    "    \"memtable_prefix_bloom_size_ratio\":[0.0, 1.0, 0.0],\n",
    "    \"max_bytes_for_level_multiplier\":[0.0, 100.0, 10.0]\n",
    "}\n",
    "                                           \n",
    "hyper_parameters_catagorical ={\n",
    "    \"avoid_flush_during_shutdown\":[[True, False],False],  \n",
    "    \"memtable_whole_key_filtering\":[[True, False],False],\n",
    "   \"compression_per_level\":[[\"kNoCompression\", \"kSnappyCompression\", \"kZlibCompression\", \"kBZip2Compression\", \"kLZ4Compression\", \"kLZ4HCCompression\", \"kXpressCompression\", \"kZSTD\"], \"kNoCompression\"]\n",
    "\n",
    "}"
   ]
  }
 ],
 "metadata": {
  "kernelspec": {
   "display_name": "Python 3 (ipykernel)",
   "language": "python",
   "name": "python3"
  },
  "language_info": {
   "codemirror_mode": {
    "name": "ipython",
    "version": 3
   },
   "file_extension": ".py",
   "mimetype": "text/x-python",
   "name": "python",
   "nbconvert_exporter": "python",
   "pygments_lexer": "ipython3",
   "version": "3.11.5"
  }
 },
 "nbformat": 4,
 "nbformat_minor": 5
}
